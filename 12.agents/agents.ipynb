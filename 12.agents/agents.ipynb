{
 "cells": [
  {
   "cell_type": "markdown",
   "id": "c68c9d00",
   "metadata": {},
   "source": [
    "## AI Agents"
   ]
  },
  {
   "cell_type": "code",
   "execution_count": null,
   "id": "442c2904",
   "metadata": {},
   "outputs": [
    {
     "name": "stderr",
     "output_type": "stream",
     "text": [
      "d:\\langchain-framework\\.venv\\Lib\\site-packages\\langsmith\\client.py:272: LangSmithMissingAPIKeyWarning: API key must be provided when using hosted LangSmith API\n",
      "  warnings.warn(\n"
     ]
    },
    {
     "name": "stdout",
     "output_type": "stream",
     "text": [
      "\n",
      "\n",
      "\u001b[1m> Entering new AgentExecutor chain...\u001b[0m\n",
      "\u001b[32;1m\u001b[1;3mWe first need to find the capital of Pakistan and then check the weather in that city.\n",
      "Action: duckduckgo_search\n",
      "Action Input: \"Capital of Pakistan\"\u001b[0m\u001b[36;1m\u001b[1;3mIslamabad is the tenth-most populous city and the federal capital of Pakistan, established in 1967 as a planned city. It has a high cost of living, many landmarks, universities, and a history of human settlement dating back to prehistory. Islamabad, city, capital of Pakistan, on the Potwar Plateau, 9 miles (14 km) northeast of Rawalpindi, the former interim capital. The city's site was chosen in 1959 after Karachi was found unsuitable as the capital. Construction aimed to blend traditional Islamic architecture with modern patterns and requirements. Learn about the history, significance, and features of Islamabad, the planned and purpose-built capital of Pakistan since 1967. Find answers to frequently asked questions about Pakistan's capital and other related topics. The official inauguration of Islamabad as Pakistan's capital took place in 1966, marking a new era for the nation's governance and development. Geographical Features and Climate of Islamabad. Islamabad is situated in the northern part of Pakistan, nestled in the foothills of the majestic Margalla Hills. These hills, part of the Himalayas ... Pakistan's capital, Islamabad, is a modern city in the north of the country, at the foot of the Margalla Hills. Its status as capital dates back to 1963, when it replaced Karachi as the more strategic political and administrative center. In contrast to Pakistan's major metropolises, such as Karachi and Lahore, Islamabad is characterized by ...\u001b[0m\u001b[32;1m\u001b[1;3mNow that we know Islamabad is the capital of Pakistan, let's check the current weather there.\n",
      "Action: get_weather_data\n",
      "Action Input: Islamabad\u001b[0m\u001b[33;1m\u001b[1;3m{'request': {'type': 'City', 'query': 'Islamabad, Pakistan', 'language': 'en', 'unit': 'm'}, 'location': {'name': 'Islamabad', 'country': 'Pakistan', 'region': 'Islamabad', 'lat': '33.700', 'lon': '73.167', 'timezone_id': 'Asia/Karachi', 'localtime': '2025-06-03 21:03', 'localtime_epoch': 1748984580, 'utc_offset': '5.0'}, 'current': {'observation_time': '04:03 PM', 'temperature': 26, 'weather_code': 113, 'weather_icons': ['https://cdn.worldweatheronline.com/images/wsymbols01_png_64/wsymbol_0008_clear_sky_night.png'], 'weather_descriptions': ['Clear '], 'astro': {'sunrise': '04:57 AM', 'sunset': '07:14 PM', 'moonrise': '12:06 PM', 'moonset': '12:29 AM', 'moon_phase': 'First Quarter', 'moon_illumination': 48}, 'air_quality': {'co': '431.05', 'no2': '12.025', 'o3': '170', 'so2': '12.95', 'pm2_5': '35.705', 'pm10': '85.655', 'us-epa-index': '2', 'gb-defra-index': '2'}, 'wind_speed': 21, 'wind_degree': 57, 'wind_dir': 'ENE', 'pressure': 1001, 'precip': 0, 'humidity': 35, 'cloudcover': 9, 'feelslike': 26, 'uv_index': 0, 'visibility': 10, 'is_day': 'no'}}\u001b[0m\u001b[32;1m\u001b[1;3mThe capital of Pakistan is Islamabad and the current weather there is clear with a temperature of 26°C.\n",
      "Final Answer: Islamabad, Pakistan - Clear, 26°C\u001b[0m\n",
      "\n",
      "\u001b[1m> Finished chain.\u001b[0m\n",
      "{'input': \"Find the capital of pakistan, then find it's current weather condition\", 'output': 'Islamabad, Pakistan - Clear, 26°C'}\n"
     ]
    },
    {
     "data": {
      "text/plain": [
       "'Islamabad, Pakistan - Clear, 26°C'"
      ]
     },
     "execution_count": 2,
     "metadata": {},
     "output_type": "execute_result"
    }
   ],
   "source": [
    "from langchain_openai import ChatOpenAI\n",
    "from langchain_core.tools import tool\n",
    "import requests\n",
    "from dotenv import load_dotenv\n",
    "import os\n",
    "load_dotenv()\n",
    "\n",
    "from langchain_community.tools import DuckDuckGoSearchRun\n",
    "\n",
    "search_tool = DuckDuckGoSearchRun()\n",
    "\n",
    "\n",
    "\n",
    "@tool\n",
    "def get_weather_data(city: str) -> str:\n",
    "  \"\"\"\n",
    "  This function fetches the current weather data for a given city\n",
    "  \"\"\"\n",
    "  url = f'https://api.weatherstack.com/current?access_key={os.environ['WEATHER_API_KEY']}&query={city}'\n",
    "\n",
    "  response = requests.get(url)\n",
    "\n",
    "  return response.json()\n",
    "\n",
    "llm = ChatOpenAI()\n",
    "\n",
    "from langchain.agents import create_react_agent, AgentExecutor\n",
    "from langchain import hub\n",
    "\n",
    "# Step 2: Pull the ReAct prompt from LangChain Hub\n",
    "prompt = hub.pull(\"hwchase17/react\")  # pulls the standard ReAct agent prompt\n",
    "\n",
    "# Step 3: Create the ReAct agent manually with the pulled prompt\n",
    "agent = create_react_agent(\n",
    "    llm=llm,\n",
    "    tools=[search_tool, get_weather_data],\n",
    "    prompt=prompt\n",
    ")\n",
    "\n",
    "# Step 4: Wrap it with AgentExecutor\n",
    "agent_executor = AgentExecutor(\n",
    "    agent=agent,\n",
    "    tools=[search_tool, get_weather_data],\n",
    "    verbose=True\n",
    ")\n",
    "\n",
    "# Step 5: Invoke\n",
    "response = agent_executor.invoke({\"input\": \"Find the capital of pakistan, then find it's current weather condition\"})\n",
    "print(response)\n",
    "\n",
    "response['output']"
   ]
  }
 ],
 "metadata": {
  "kernelspec": {
   "display_name": ".venv",
   "language": "python",
   "name": "python3"
  },
  "language_info": {
   "codemirror_mode": {
    "name": "ipython",
    "version": 3
   },
   "file_extension": ".py",
   "mimetype": "text/x-python",
   "name": "python",
   "nbconvert_exporter": "python",
   "pygments_lexer": "ipython3",
   "version": "3.11.12"
  }
 },
 "nbformat": 4,
 "nbformat_minor": 5
}
