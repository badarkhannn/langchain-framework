{
 "cells": [
  {
   "cell_type": "markdown",
   "id": "c44f3769",
   "metadata": {},
   "source": [
    "### chroma VDB"
   ]
  },
  {
   "cell_type": "code",
   "execution_count": null,
   "id": "f1d55f89",
   "metadata": {},
   "outputs": [],
   "source": [
    "from langchain.vectorstores import Chroma\n",
    "from sentence_transformers import SentenceTransformer\n",
    "\n",
    "embedding_model = SentenceTransformer(\"D:\\langchain-framework\\src\\local_model\")\n",
    "\n",
    "\n",
    "documents = [\n",
    "    \"The quick brown fox jumps over the lazy dog.\",\n",
    "    \"A journey of a thousand miles begins with a single step.\",\n",
    "    \"To be or not to be, that is the question.\",\n",
    "    \"All that glitters is not gold.\",\n",
    "    \"The only thing we have to fear is fear itself.\",\n",
    "    \"In the end, we will remember not the words of our enemies, but the silence of our friends.\",\n",
    "    \"The greatest glory in living lies not in never falling, but in rising every time we fall.\",\n",
    "    \"The future belongs to those who believe in the beauty of their dreams.\",\n",
    "    \"Life is what happens when you're busy making other plans.\",\n",
    "    \"The purpose of our lives is to be happy.\"]\n",
    "\n",
    "\n",
    "document_embeddings = embeddings.embed_documents(documents)\n",
    "\n",
    "vectorstore = Chroma.from_documents(\n",
    "    documents=documents,\n",
    "    embedding=embedding_model,\n",
    "    persist_directory=\"chroma_db\"\n",
    ")\n",
    "\n",
    "vectorstore.add_documents(documents)\n",
    "vectorstore.persist()\n",
    "\n",
    "\n",
    "### This is not fully working based but the flow is easy so I don't think to waste time on it.\n",
    "# To use the vectorstore, you can now query it with a text input"
   ]
  },
  {
   "cell_type": "markdown",
   "id": "4fad4834",
   "metadata": {},
   "source": [
    "### Chrome DB with openai embedding"
   ]
  },
  {
   "cell_type": "code",
   "execution_count": null,
   "id": "75cefcc4",
   "metadata": {},
   "outputs": [],
   "source": [
    "from langchain.vectorstores import Chroma\n",
    "from langchain.embeddings import OpenAIEmbeddings\n",
    "\n",
    "from langchain.schema import Document\n",
    "\n",
    "docs1 = Document(\n",
    "    page_content=\"AI agents are autonomous entities that perceive their environment and take actions to achieve specific goals.\",\n",
    "    metadata={\"source\": \"ai_agents_intro\"}\n",
    ")\n",
    "\n",
    "docs2 = Document(\n",
    "    page_content=\"Reinforcement learning is a popular approach for training AI agents to make decisions through trial and error.\",\n",
    "    metadata={\"source\": \"reinforcement_learning\"}\n",
    ")\n",
    "\n",
    "docs3 = Document(\n",
    "    page_content=\"Multi-agent systems involve multiple AI agents interacting and collaborating to solve complex problems.\",\n",
    "    metadata={\"source\": \"multi_agent_systems\"}\n",
    ")\n",
    "\n",
    "docs = [docs1, docs2, docs3]\n",
    "\n",
    "vector_store = Chroma(\n",
    "    collection_name=\"ai_agents\",\n",
    "    embedding_function=OpenAIEmbeddings(),\n",
    "    persist_directory=\"chroma_db\"\n",
    ")\n"
   ]
  },
  {
   "cell_type": "code",
   "execution_count": null,
   "id": "e5f7ec38",
   "metadata": {},
   "outputs": [],
   "source": [
    "# add document\n",
    "vector_store.add_documents(docs)\n",
    "\n",
    "# view document\n",
    "print(vector_store.get(include=[\"embeddings\",\"page_content\", \"metadata\"]))"
   ]
  },
  {
   "cell_type": "code",
   "execution_count": null,
   "id": "369d38fc",
   "metadata": {},
   "outputs": [],
   "source": [
    "# seach document\n",
    "vector_store.similarity_search(\n",
    "    query = \"what is ai agents\",\n",
    "    k = 2\n",
    ")\n",
    "\n",
    "# seach with similairty score \n",
    "vector_store.similarity_search_with_scire(\n",
    "    query = \"what is ai agents\",\n",
    "    k = 2\n",
    ")\n",
    "\n",
    "# Meta data filtering\n",
    "\n",
    "\n",
    "# update the existing doucment"
   ]
  }
 ],
 "metadata": {
  "kernelspec": {
   "display_name": ".venv",
   "language": "python",
   "name": "python3"
  },
  "language_info": {
   "codemirror_mode": {
    "name": "ipython",
    "version": 3
   },
   "file_extension": ".py",
   "mimetype": "text/x-python",
   "name": "python",
   "nbconvert_exporter": "python",
   "pygments_lexer": "ipython3",
   "version": "3.11.12"
  }
 },
 "nbformat": 4,
 "nbformat_minor": 5
}
