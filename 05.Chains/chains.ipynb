{
 "cells": [
  {
   "cell_type": "markdown",
   "id": "b7e33292",
   "metadata": {},
   "source": [
    "### Simple prompt"
   ]
  },
  {
   "cell_type": "code",
   "execution_count": 4,
   "id": "90e4220b",
   "metadata": {},
   "outputs": [
    {
     "name": "stdout",
     "output_type": "stream",
     "text": [
      "1. Python was created by Guido van Rossum and first released in 1991. It is named after the British comedy group Monty Python.\n",
      "\n",
      "2. Python is a high-level, interpreted programming language known for its simplicity and readability. It uses indentation to define code blocks, making it easier to read and understand compared to other languages.\n",
      "\n",
      "3. Python is used in a wide range of applications, including web development, data analysis, artificial intelligence, machine learning, and automation. It is one of the most popular languages for data science and is widely used by companies like Google, Facebook, and NASA.\n",
      "\n",
      "4. Python has a large and active community of developers who contribute to its open-source ecosystem. There are many libraries and frameworks available for Python, making it easy to extend and customize for specific applications.\n",
      "\n",
      "5. Python is cross-platform and runs on all major operating systems, including Windows, macOS, and Linux. It is free to use and distribute, making it accessible to programmers of all skill levels.\n"
     ]
    }
   ],
   "source": [
    "from langchain_openai import ChatOpenAI\n",
    "from dotenv import load_dotenv\n",
    "from langchain_core.prompts import PromptTemplate\n",
    "from langchain_core.output_parsers import StrOutputParser\n",
    "\n",
    "load_dotenv()\n",
    "\n",
    "prompt = PromptTemplate(\n",
    "    template=\"Generate 5 interresting facts about {topic}\",\n",
    "    input_variables=[\"topic\"],\n",
    ")\n",
    "\n",
    "model = ChatOpenAI()\n",
    "\n",
    "parser = StrOutputParser()\n",
    "\n",
    "chain = prompt | model | parser\n",
    "result = chain.invoke({\"topic\": \"Python programming\"})\n",
    "print(result)\n"
   ]
  },
  {
   "cell_type": "markdown",
   "id": "b707a7cd",
   "metadata": {},
   "source": [
    "### Sequential Chain"
   ]
  },
  {
   "cell_type": "code",
   "execution_count": 6,
   "id": "914b6fa5",
   "metadata": {},
   "outputs": [
    {
     "name": "stdout",
     "output_type": "stream",
     "text": [
      "1. AI agents are software programs designed to perform tasks autonomously based on predefined rules, algorithms, or machine learning models in various fields such as healthcare, finance, manufacturing, and transportation.\n",
      "2. They can be categorized into reactive, deliberative, and hybrid agents based on their decision-making processes and capabilities.\n",
      "3. AI agents can operate in single-agent systems independently or as part of multi-agent systems that collaborate with each other to achieve common goals.\n",
      "4. They can be implemented using various technologies such as machine learning, expert systems, reinforcement learning, and natural language processing.\n",
      "5. The applications of AI agents are diverse, including controlling autonomous vehicles, robots in manufacturing, assisting in healthcare, analyzing financial data, and predicting market trends.\n"
     ]
    }
   ],
   "source": [
    "from langchain_openai import ChatOpenAI\n",
    "from langchain_core.prompts import PromptTemplate\n",
    "from langchain_core.output_parsers import StrOutputParser\n",
    "from dotenv import load_dotenv\n",
    "\n",
    "load_dotenv()\n",
    "\n",
    "model = ChatOpenAI()\n",
    "\n",
    "template1 = PromptTemplate(\n",
    "    template= \"Generate a detailed report about {topic}\",\n",
    "    input_variables=[\"topic\"],\n",
    ")\n",
    "\n",
    "template2 = PromptTemplate(\n",
    "    template = \"Generate 5 pointer summmary from the following text \\n {text}\",\n",
    "    input_variables=[\"text\"],\n",
    ")\n",
    "\n",
    "parser = StrOutputParser()\n",
    "chain = template1 | model | parser | template2 | model | parser\n",
    "result = chain.invoke({\"topic\": \"AI Agents\"})\n",
    "print(result)"
   ]
  },
  {
   "cell_type": "markdown",
   "id": "a099cdf2",
   "metadata": {},
   "source": [
    "### Parallel chain"
   ]
  },
  {
   "cell_type": "code",
   "execution_count": 9,
   "id": "6e7e7e49",
   "metadata": {},
   "outputs": [
    {
     "name": "stdout",
     "output_type": "stream",
     "text": [
      "**Notes:**\n",
      "- AI agents are software programs that work autonomously\n",
      "- They can learn from their environment and adapt to new situations\n",
      "- Used in fields such as robotics, finance, and healthcare\n",
      "\n",
      "**Quiz:**\n",
      "\n",
      "**Questions & Answers:**\n",
      "\n",
      "1.  **Question:** What are AI Agents?\n",
      "    **Answer:** Software programs that can perform tasks autonomously.\n",
      "\n",
      "2.  **Question:** What can AI Agents learn from?\n",
      "    **Answer:** Their environment.\n",
      "\n",
      "3.  **Question:** What can AI Agents adapt to?\n",
      "    **Answer:** New situations.\n",
      "\n",
      "4.  **Question:** Name one field where AI Agents are used.\n",
      "    **Answer:** Robotics (or Finance, or Healthcare).\n",
      "\n",
      "5.  **Question:** What is a key characteristic of AI Agents?\n",
      "    **Answer:** Autonomy (or the ability to learn, or the ability to adapt).\n"
     ]
    }
   ],
   "source": [
    "from langchain_openai import ChatOpenAI\n",
    "from langchain_google_genai import ChatGoogleGenerativeAI\n",
    "from langchain_core.prompts import PromptTemplate\n",
    "from langchain_core.output_parsers import StrOutputParser\n",
    "from langchain.schema.runnable import RunnableParallel\n",
    "from dotenv import load_dotenv\n",
    "\n",
    "load_dotenv()\n",
    "\n",
    "model = ChatOpenAI()\n",
    "model2 = ChatGoogleGenerativeAI(model=\"gemini-2.0-flash\", temperature=0)\n",
    "\n",
    "prompt1 = PromptTemplate(\n",
    "    template = \"Generata short and simple notes from the following text \\n {text}\",\n",
    "    input_variables=[\"text\"],\n",
    ")\n",
    "\n",
    "prompt2 = PromptTemplate(\n",
    "    template = \"Generate 5 short questions answer from the following text \\n {text}\",\n",
    "    input_variables=[\"text\"],\n",
    ")\n",
    "\n",
    "prompt3 = PromptTemplate(\n",
    "    template = \"Merge the provided notes and quiz into a sinlgle document \\ notes -> {notes} \\ quiz -> {quiz}\",\n",
    "    input_variables=[\"notes\", \"quiz\"],\n",
    ")\n",
    "\n",
    "parser = StrOutputParser()\n",
    "\n",
    "parallel_chain = RunnableParallel(\n",
    "    {\n",
    "        \"notes\": prompt1 | model | parser,\n",
    "        \"quiz\": prompt2 | model2 | parser,\n",
    "    }\n",
    ")\n",
    "\n",
    "chain = parallel_chain | prompt3 | model | parser\n",
    "result = chain.invoke({\"text\": \"AI Agents are software programs that can perform tasks autonomously. They can learn from their environment and adapt to new situations. AI agents are used in various fields, including robotics, finance, and healthcare.\"})\n",
    "print(result)"
   ]
  },
  {
   "cell_type": "markdown",
   "id": "ec2ffb09",
   "metadata": {},
   "source": [
    "### Conditional Chain"
   ]
  },
  {
   "cell_type": "code",
   "execution_count": 35,
   "id": "16172715",
   "metadata": {},
   "outputs": [
    {
     "name": "stdout",
     "output_type": "stream",
     "text": [
      "Thank you for the kind words! It means a lot to me.\n"
     ]
    }
   ],
   "source": [
    "from langchain_openai import ChatOpenAI\n",
    "from langchain_google_genai import ChatGoogleGenerativeAI\n",
    "from langchain_core.prompts import PromptTemplate\n",
    "from langchain_core.output_parsers import StrOutputParser\n",
    "from langchain.schema.runnable import RunnableParallel, RunnableBranch, RunnableLambda\n",
    "from langchain_core.output_parsers import PydanticOutputParser\n",
    "from pydantic import BaseModel, Field\n",
    "from typing import Literal\n",
    "from dotenv import load_dotenv\n",
    "\n",
    "load_dotenv()\n",
    "\n",
    "model = ChatOpenAI()\n",
    "\n",
    "parser = StrOutputParser()\n",
    "\n",
    "# class SentimentModel(BaseModel):\n",
    "#     sentiment: str = Field(description=\"The sentiment of the text\")\n",
    "\n",
    "#     class Config:\n",
    "#         schema_extra = {\n",
    "#             \"examples\": [\n",
    "#                 {\"sentiment\": \"positive\"},\n",
    "#                 {\"sentiment\": \"negative\"},\n",
    "#                 {\"sentiment\": \"neutral\"},\n",
    "#             ]\n",
    "#         }\n",
    "\n",
    "# Uncomment the following lines to use PydanticOutputParser\n",
    "class FeedbackModel(BaseModel):\n",
    "    sentiment: Literal[\"positive\", \"negative\", \"neutral\"] = Field(description=\"The sentiment of the text\")\n",
    "\n",
    "parser1 = PydanticOutputParser(pydantic_object=FeedbackModel)\n",
    "\n",
    "prompt1 = PromptTemplate(\n",
    "    template=\"Classify the sentiment of the following text as positive, negative, or neutral: {text} \\n {format_instructions}\",\n",
    "    input_variables=[\"text\"],\n",
    "    partial_variables={\"format_instructions\": parser1.get_format_instructions()},\n",
    ")\n",
    "\n",
    "classification_chain = prompt1 | model | parser1\n",
    "\n",
    "# result = classification_chain.invoke({\"text\": \"I love programming with Python!\"})\n",
    "\n",
    "\n",
    "from langchain.schema.runnable import RunnableLambda, RunnableBranch\n",
    "\n",
    "# Fallback in case no sentiment matches (very unlikely, but needed for safety)\n",
    "default_chain = RunnableLambda(lambda x: \"Could not determine sentiment.\")\n",
    "\n",
    "prompt2 = PromptTemplate(\n",
    "    template =\"Write a appropriate response to this positive sentiment \\n  {sentiment}\",\n",
    "    input_variables=[\"sentiment\"],\n",
    ")\n",
    "\n",
    "prompt3 = PromptTemplate(\n",
    "    template =\"Write a appropriate response to this negative sentiment \\n  {sentiment}\",\n",
    "    input_variables=[\"sentiment\"],\n",
    ")\n",
    "\n",
    "prompt4 = PromptTemplate(\n",
    "    template =\"Write a appropriate response to this neutral  sentiment \\n {sentiment}\",\n",
    "    input_variables=[\"sentiment\"],\n",
    ")\n",
    "\n",
    "condition1 = RunnableLambda(lambda x: x.sentiment == \"positive\")\n",
    "condition2 = RunnableLambda(lambda x: x.sentiment == \"negative\")\n",
    "condition3 = RunnableLambda(lambda x: x.sentiment == \"neutral\")\n",
    "\n",
    "\n",
    "chain1 = prompt2 | model | parser\n",
    "chain2 = prompt3 | model | parser\n",
    "chain3 = prompt4 | model | parser\n",
    "\n",
    "default_chain = RunnableLambda(lambda x: \"Could not determine sentiment.\")\n",
    "\n",
    "branch_chain = RunnableBranch(\n",
    "    (condition1, chain1),\n",
    "    (condition2, chain2),\n",
    "    (condition3, chain3),\n",
    "    default_chain,\n",
    ")\n",
    "\n",
    "# Combine the classification and branching chains\n",
    "final_chain = classification_chain | branch_chain\n",
    "result = final_chain.invoke({\"text\": \"Your product is amazing! I love it.\"})\n",
    "print(result)"
   ]
  }
 ],
 "metadata": {
  "kernelspec": {
   "display_name": ".venv",
   "language": "python",
   "name": "python3"
  },
  "language_info": {
   "codemirror_mode": {
    "name": "ipython",
    "version": 3
   },
   "file_extension": ".py",
   "mimetype": "text/x-python",
   "name": "python",
   "nbconvert_exporter": "python",
   "pygments_lexer": "ipython3",
   "version": "3.11.12"
  }
 },
 "nbformat": 4,
 "nbformat_minor": 5
}
