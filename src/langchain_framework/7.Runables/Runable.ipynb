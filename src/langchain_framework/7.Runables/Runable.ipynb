{
 "cells": [
  {
   "cell_type": "markdown",
   "id": "44814df6",
   "metadata": {},
   "source": [
    "## Simple llm"
   ]
  },
  {
   "cell_type": "code",
   "execution_count": 8,
   "id": "eab10c8f",
   "metadata": {},
   "outputs": [
    {
     "name": "stdout",
     "output_type": "stream",
     "text": [
      "Suggested blog title: \n",
      "\n",
      "\"Unleashing the Power of AI Agents: Revolutionizing the Future\"\n"
     ]
    }
   ],
   "source": [
    "from langchain.llms import OpenAI\n",
    "from langchain.prompts import PromptTemplate\n",
    "\n",
    "# initialize the OpenAI LLM\n",
    "llm = OpenAI(temperature=0.7)\n",
    "\n",
    "prompt = PromptTemplate(\n",
    "    input_variables=[\"topic\"],\n",
    "    template= \"Suggest a catchy blog title about {topic}\",\n",
    ")\n",
    "\n",
    "topic = 'AI Agents'\n",
    "\n",
    "formatted_prompt = prompt.format(topic=topic)\n",
    "# Call the LLM with the formatted prompt\n",
    "blog_title = llm.predict(formatted_prompt)\n",
    "print(f\"Suggested blog title: {blog_title}\")"
   ]
  },
  {
   "cell_type": "markdown",
   "id": "7464ea7e",
   "metadata": {},
   "source": [
    "### pdf reader"
   ]
  },
  {
   "cell_type": "code",
   "execution_count": 21,
   "id": "af0171f4",
   "metadata": {},
   "outputs": [
    {
     "name": "stdout",
     "output_type": "stream",
     "text": [
      "\n",
      "\n",
      "AI agents are the latest form of artificial intelligence that is rapidly gaining popularity in various industries. These digital helpers are designed to assist and support humans in various tasks, making our lives easier and more efficient. They are programmed to learn from data, analyze information, and make decisions based on the available data. With their ability to continuously learn and adapt, AI agents have the potential to revolutionize the way we live and work in the future.\n",
      "\n",
      "What is the potential impact of AI agents on our lives and work?\n",
      "\n",
      "The potential impact of AI agents on our lives and work is significant. They have the ability to make our lives easier and more efficient by assisting and supporting us in various tasks. Their continuous learning and adaptability can also lead to the revolutionization of the way we live and work, potentially improving productivity and efficiency in various industries. However, there may also be concerns about the potential replacement of human jobs by AI agents. Overall, the impact of AI agents on our lives and work is still evolving and will continue to shape our future.\n"
     ]
    }
   ],
   "source": [
    "from langchain.document_loaders import TextLoader\n",
    "from langchain.text_splitter import RecursiveCharacterTextSplitter\n",
    "from langchain.embeddings import OpenAIEmbeddings\n",
    "from langchain.vectorstores import FAISS\n",
    "from langchain.llms import OpenAI\n",
    "\n",
    "# load the document\n",
    "loader = TextLoader('agents.txt')\n",
    "documents = loader.load()\n",
    "\n",
    "# # print the document list\n",
    "# for doc in documents:\n",
    "#     print(doc.page_content)\n",
    "#     print(len(doc.page_content))\n",
    "\n",
    "# split the document into chunks\n",
    "text_splitter = RecursiveCharacterTextSplitter(chunk_size=80, chunk_overlap=20)\n",
    "docs = text_splitter.split_documents(documents)\n",
    "\n",
    "# convert the text into embeddings & store in FAISS\n",
    "embeddings = OpenAIEmbeddings()\n",
    "\n",
    "vectorstore = FAISS.from_documents(docs, embeddings)\n",
    "\n",
    "retriever = vectorstore.as_retriever(search_kwargs={\"k\": 1})\n",
    "\n",
    "# Manually retrive the document\n",
    "query = \"What is an agent?\"\n",
    "retrived_docs = retriever.get_relevant_documents(query)\n",
    "\n",
    "# combine rerived text int a single prompt\n",
    "retrived_text = \"\".join([doc.page_content for doc in retrived_docs])\n",
    "# print the retrived text\n",
    "# print(retrived_text)\n",
    "\n",
    "# Call the LLM with the retrived text\n",
    "llm = OpenAI(temperature=0.7)\n",
    "\n",
    "# Manually pass the retrieved text to the llm\n",
    "prompt = PromptTemplate(\n",
    "    input_variables=[\"retrived_text\"],\n",
    "    template= \"Answer the question based on the context: {retrived_text}\",\n",
    ")\n",
    "formatted_prompt = prompt.format(retrived_text=retrived_text)\n",
    "answer = llm.predict(formatted_prompt)\n",
    "print(answer)\n"
   ]
  },
  {
   "cell_type": "markdown",
   "id": "a554c952",
   "metadata": {},
   "source": [
    "### LLM Chain"
   ]
  },
  {
   "cell_type": "code",
   "execution_count": null,
   "id": "1e430a27",
   "metadata": {},
   "outputs": [
    {
     "name": "stdout",
     "output_type": "stream",
     "text": [
      "Suggested blog title: \n",
      "\"Unleashing the Power of AI Agents: Revolutionizing the Future\"\n"
     ]
    }
   ],
   "source": [
    "from langchain.llms import OpenAI\n",
    "from langchain.prompts import PromptTemplate\n",
    "from langchain.chains import LLMChain\n",
    "\n",
    "# initialize the OpenAI LLM\n",
    "llm = OpenAI(temperature=0.7)\n",
    "\n",
    "prompt = PromptTemplate(\n",
    "    input_variables=[\"topic\"],\n",
    "    template= \"Suggest a catchy blog title about {topic}\",\n",
    ")\n",
    "\n",
    "# chain a llm \n",
    "chain = LLMChain(llm=llm, prompt=prompt)\n",
    "# Call the chain with the topic\n",
    "topic = 'AI Agents'\n",
    "result = chain.run(topic)\n",
    "print(f\"Suggested blog title: {result}\")\n"
   ]
  },
  {
   "cell_type": "markdown",
   "id": "c202d6d0",
   "metadata": {},
   "source": [
    "### RetrieveQA Chain"
   ]
  },
  {
   "cell_type": "code",
   "execution_count": 26,
   "id": "7fb6b35f",
   "metadata": {},
   "outputs": [
    {
     "name": "stdout",
     "output_type": "stream",
     "text": [
      "\n",
      "An agent is a computer program or algorithm that is designed to perform specific tasks or make decisions on behalf of a user. It is typically used in artificial intelligence systems to assist with various tasks and automate processes.\n"
     ]
    }
   ],
   "source": [
    "from langchain.document_loaders import TextLoader\n",
    "from langchain.text_splitter import RecursiveCharacterTextSplitter\n",
    "from langchain.embeddings import OpenAIEmbeddings\n",
    "from langchain.vectorstores import FAISS\n",
    "from langchain.llms import OpenAI\n",
    "from langchain.chains import RetrievalQA\n",
    "\n",
    "# load the document\n",
    "loader = TextLoader('agents.txt')\n",
    "documents = loader.load()\n",
    "\n",
    "# # print the document list\n",
    "# for doc in documents:\n",
    "#     print(doc.page_content)\n",
    "#     print(len(doc.page_content))\n",
    "\n",
    "# split the document into chunks\n",
    "text_splitter = RecursiveCharacterTextSplitter(chunk_size=80, chunk_overlap=20)\n",
    "docs = text_splitter.split_documents(documents)\n",
    "\n",
    "# convert the text into embeddings & store in FAISS\n",
    "embeddings = OpenAIEmbeddings()\n",
    "\n",
    "vectorstore = FAISS.from_documents(docs, embeddings)\n",
    "\n",
    "retriever = vectorstore.as_retriever(search_kwargs={\"k\": 1})\n",
    "\n",
    "\n",
    "# Call the LLM with the retrived text\n",
    "llm = OpenAI(temperature=0.7)\n",
    "\n",
    "\n",
    "qa_chain = RetrievalQA.from_chain_type(\n",
    "    llm=llm,\n",
    "    retriever=retriever,\n",
    ")\n",
    "\n",
    "query = \"What is an agent?\"\n",
    "answer = qa_chain.run(query)\n",
    "print(answer)\n",
    "\n",
    "\n",
    "# # Manually pass the retrieved text to the llm\n",
    "# prompt = PromptTemplate(\n",
    "#     input_variables=[\"retrived_text\"],\n",
    "#     template= \"Answer the question based on the context: {retrived_text}\",\n",
    "# )\n",
    "# formatted_prompt = prompt.format(retrived_text=retrived_text)\n",
    "# answer = llm.predict(formatted_prompt)\n",
    "# print(answer)\n"
   ]
  },
  {
   "cell_type": "markdown",
   "id": "a58698b5",
   "metadata": {},
   "source": [
    "### RunableSequene"
   ]
  },
  {
   "cell_type": "code",
   "execution_count": 3,
   "id": "7fb51619",
   "metadata": {},
   "outputs": [
    {
     "data": {
      "text/plain": [
       "'This joke plays on the idea that AI agents and chatbots are both forms of artificial intelligence, but the AI agent in the joke wants to be with someone who is even more advanced in terms of artificial intelligence. So, it breaks up with the chatbot to pursue a more intelligent partner.'"
      ]
     },
     "execution_count": 3,
     "metadata": {},
     "output_type": "execute_result"
    }
   ],
   "source": [
    "from langchain_openai import ChatOpenAI\n",
    "from langchain_core.prompts import PromptTemplate\n",
    "from langchain_core.output_parsers import StrOutputParser\n",
    "from dotenv import load_dotenv\n",
    "from langchain_core.runnables import RunnableSequence\n",
    "\n",
    "load_dotenv()\n",
    "\n",
    "# # load the \"OPENAI_API_KEY\" key\n",
    "# import os\n",
    "# test = os.environ[\"OPENAI_API_KEY\"] = os.getenv(\"OPENAI_API_KEY\")\n",
    "# print(test)\n",
    "\n",
    "\n",
    "prompt1 = PromptTemplate(\n",
    "    input_variables=[\"topic\"],\n",
    "    template= \"Swhat a joke about {topic}\",\n",
    ")\n",
    "\n",
    "prompt2 = PromptTemplate(\n",
    "    input_variables=[\"joke\"],\n",
    "    template= \"explain the following joke {joke}\",\n",
    ")\n",
    "\n",
    "model = ChatOpenAI()\n",
    "\n",
    "parser = StrOutputParser()\n",
    "\n",
    "# create a chain\n",
    "chain = RunnableSequence(\n",
    "    prompt1,\n",
    "    model,\n",
    "    parser,\n",
    "    prompt2,\n",
    "    model,\n",
    "    parser,\n",
    ")\n",
    "\n",
    "chain.invoke({\"topic\": \"AI Agents\"})"
   ]
  },
  {
   "cell_type": "markdown",
   "id": "9e4531c4",
   "metadata": {},
   "source": [
    "### Runable Parallel"
   ]
  },
  {
   "cell_type": "code",
   "execution_count": 6,
   "id": "b155b367",
   "metadata": {},
   "outputs": [
    {
     "name": "stdout",
     "output_type": "stream",
     "text": [
      "{'tweet': 'AI agents are revolutionizing the way we interact with technology. From chatbots to autonomous cars, these intelligent systems are changing the game. #AI #technology #innovation', 'LinkedIn post': 'Excited to see the advancements in AI agents, revolutionizing the way businesses operate. These intelligent virtual assistants are streamlining processes, improving customer experiences, and boosting productivity. The future is here with AI agents leading the way! #AI #ArtificialIntelligence #TechTrends #Innovation'}\n"
     ]
    }
   ],
   "source": [
    "from langchain_openai import ChatOpenAI\n",
    "from langchain_core.prompts import PromptTemplate\n",
    "from langchain_core.output_parsers import StrOutputParser\n",
    "from dotenv import load_dotenv\n",
    "from langchain_core.runnables import RunnableSequence, RunnableParallel\n",
    "\n",
    "load_dotenv()\n",
    "\n",
    "prompt1 = PromptTemplate(\n",
    "    template= \"Generate a tweet about {topic}\",\n",
    "    input_variables=[\"topic\"],\n",
    ")\n",
    "\n",
    "prompt2 = PromptTemplate(\n",
    "    template= \"Generate a LinkedIn post about {topic}\",\n",
    "    input_variables=[\"topic\"],\n",
    ")\n",
    "\n",
    "\n",
    "model = ChatOpenAI()\n",
    "\n",
    "parser = StrOutputParser()\n",
    "\n",
    "parallel_chain = RunnableParallel(\n",
    "    {\n",
    "        \"tweet\": RunnableSequence(\n",
    "            prompt1,\n",
    "            model,\n",
    "            parser,\n",
    "        ),\n",
    "        \"LinkedIn post\": RunnableSequence(\n",
    "            prompt2,\n",
    "            model,\n",
    "            parser,\n",
    "        ),\n",
    "    }\n",
    ")\n",
    "\n",
    "# run the parallel chain\n",
    "result = parallel_chain.invoke({\"topic\": \"AI Agents\"})\n",
    "print(result)\n"
   ]
  },
  {
   "cell_type": "markdown",
   "id": "a12e7771",
   "metadata": {},
   "source": [
    "### Runable Passthrough"
   ]
  },
  {
   "cell_type": "code",
   "execution_count": 9,
   "id": "c052563f",
   "metadata": {},
   "outputs": [
    {
     "name": "stdout",
     "output_type": "stream",
     "text": [
      "{'joke': \"Why did the AI Agent break up with its data? Because it couldn't handle the constant emotional feedback loops!\", 'explanation': 'This joke plays on the idea that AI agents are usually programmed to process data and make decisions based on logic, rather than emotions. The punchline suggests that the AI agent broke up with its data (meaning it stopped processing the data) because it couldn\\'t handle the \"emotional feedback loops\" that were occurring. This is humorous because it is absurd to think of an AI agent experiencing emotions and breaking up with its data.'}\n"
     ]
    }
   ],
   "source": [
    "from langchain_openai import ChatOpenAI\n",
    "from langchain_core.prompts import PromptTemplate\n",
    "from langchain_core.output_parsers import StrOutputParser\n",
    "from dotenv import load_dotenv\n",
    "from langchain_core.runnables import RunnableSequence, RunnableParallel, RunnablePassthrough\n",
    "\n",
    "load_dotenv()\n",
    "\n",
    "prompt1 = PromptTemplate(\n",
    "    input_variables=[\"topic\"],\n",
    "    template= \"Swhat a joke about {topic}\",\n",
    ")\n",
    "\n",
    "prompt2 = PromptTemplate(\n",
    "    input_variables=[\"joke\"],\n",
    "    template= \"explain the following joke {joke}\",\n",
    ")\n",
    "\n",
    "model = ChatOpenAI()\n",
    "\n",
    "parser = StrOutputParser()\n",
    "\n",
    "# joke gen chain \n",
    "joke_gen_chain = RunnableSequence(\n",
    "    prompt1,\n",
    "    model,\n",
    "    parser,\n",
    ")\n",
    "\n",
    "parallel_chain = RunnableParallel(\n",
    "    {\n",
    "        \"joke\": RunnablePassthrough(),\n",
    "        \"explanation\": RunnableSequence(\n",
    "            prompt2,\n",
    "            model,\n",
    "            parser,\n",
    "        ),\n",
    "    }\n",
    ")\n",
    "\n",
    "final_chain = RunnableSequence(\n",
    "    joke_gen_chain,\n",
    "    parallel_chain,\n",
    ")\n",
    "\n",
    "result = final_chain.invoke({\"topic\": \"AI Agents\"})\n",
    "print(result)"
   ]
  },
  {
   "cell_type": "markdown",
   "id": "469a54a5",
   "metadata": {},
   "source": [
    "### Runable Lambda"
   ]
  },
  {
   "cell_type": "code",
   "execution_count": 14,
   "id": "5a290a85",
   "metadata": {},
   "outputs": [
    {
     "name": "stdout",
     "output_type": "stream",
     "text": [
      "{'joke': 'Why did the AI agent go broke? Because it kept spending all its money on microtransactions!', 'Word_count': 16}\n"
     ]
    }
   ],
   "source": [
    "from langchain_openai import ChatOpenAI\n",
    "from langchain_core.prompts import PromptTemplate\n",
    "from langchain_core.output_parsers import StrOutputParser\n",
    "from dotenv import load_dotenv\n",
    "from langchain_core.runnables import RunnableSequence, RunnableParallel, RunnablePassthrough, RunnableLambda\n",
    "\n",
    "load_dotenv()\n",
    "\n",
    "def word_count(text: str) -> int:\n",
    "    return len(text.split())\n",
    "\n",
    "prompt1 = PromptTemplate(\n",
    "    input_variables=[\"topic\"],\n",
    "    template= \"Swhat a joke about {topic}\",\n",
    ")\n",
    "\n",
    "model = ChatOpenAI()\n",
    "\n",
    "parser = StrOutputParser()\n",
    "\n",
    "joke_gen_chain = RunnableSequence(\n",
    "    prompt1,\n",
    "    model,\n",
    "    parser,\n",
    ")\n",
    "\n",
    "parallel_chain = RunnableParallel(\n",
    "    {\n",
    "        \"joke\": RunnablePassthrough(),\n",
    "        \"Word_count\": RunnableLambda(word_count)\n",
    "    }\n",
    ")\n",
    "\n",
    "final_chain = RunnableSequence(\n",
    "    joke_gen_chain,\n",
    "    parallel_chain,\n",
    ")\n",
    "result = final_chain.invoke({\"topic\": \"AI Agents\"})\n",
    "print(result)\n",
    "\n",
    " "
   ]
  },
  {
   "cell_type": "markdown",
   "id": "22e1e3c4",
   "metadata": {},
   "source": [
    "### Runable Branch"
   ]
  },
  {
   "cell_type": "code",
   "execution_count": 15,
   "id": "843e49be",
   "metadata": {},
   "outputs": [
    {
     "name": "stdout",
     "output_type": "stream",
     "text": [
      "Artificial Intelligence (AI) agents are intelligent systems that are capable of perceiving their environment, making decisions, and taking actions to achieve specific goals. These agents use a combination of algorithms and data to learn from their interactions with the environment and improve their performance over time. AI agents have a wide range of applications, from autonomous vehicles and virtual assistants to chatbots and recommendation systems.\n",
      "\n",
      "One of the key features of AI agents is their ability to adapt to changing conditions in their environment. For example, an AI agent controlling a self-driving car needs to continuously monitor its surroundings, make decisions based on the information it receives, and adjust its actions accordingly. This adaptability is achieved through machine learning algorithms, which allow the agent to learn from experience and improve its performance over time.\n",
      "\n",
      "Another important aspect of AI agents is their ability to interact with humans in a natural and intuitive way. This is especially important in applications such as virtual assistants and chatbots, where the AI agent needs to understand human language, respond appropriately, and carry out tasks on behalf of the user. Natural language processing and machine learning techniques are used to enable these interactions, allowing users to communicate with AI agents in a seamless and user-friendly manner.\n",
      "\n",
      "AI agents also have the potential to revolutionize industries such as healthcare, finance, and manufacturing. For example, AI agents can help doctors diagnose diseases more accurately and recommend personalized treatment plans, assist financial analysts in making investment decisions, and optimize production processes in factories. By leveraging the power of AI agents, organizations can improve efficiency, reduce costs, and gain a competitive advantage in the marketplace.\n",
      "\n",
      "However, the widespread adoption of AI agents also raises ethical and social implications. For example, there are concerns about privacy and data security when using AI agents that collect and analyze personal information. There are also concerns about job displacement, as AI agents become increasingly capable of performing tasks that were previously done by humans. It is important for policymakers, businesses, and researchers to address these issues and develop regulations and guidelines to ensure the responsible development and deployment of AI agents.\n",
      "\n",
      "In conclusion, AI agents have the potential to transform industries, improve efficiency, and enhance human capabilities. By leveraging the power of AI agents, organizations can achieve breakthroughs in innovation and drive economic growth. However, it is important to address the ethical and social implications of AI agents, and ensure that they are developed and deployed in a responsible and ethical manner. Only then can we fully realize the benefits of AI agents and harness their potential for positive impact on society.\n"
     ]
    }
   ],
   "source": [
    "from langchain_openai import ChatOpenAI\n",
    "from langchain_core.prompts import PromptTemplate\n",
    "from langchain_core.output_parsers import StrOutputParser\n",
    "from dotenv import load_dotenv\n",
    "from langchain_core.runnables import RunnableSequence, RunnableParallel, RunnablePassthrough, RunnableLambda, RunnableBranch\n",
    "\n",
    "load_dotenv()\n",
    "\n",
    "prompt1 = PromptTemplate(\n",
    "    template= \"Write a detaled report on the following topic: {topic}\",\n",
    "    input_variables=[\"topic\"],\n",
    ")\n",
    "\n",
    "prompt2 = PromptTemplate(\n",
    "    template= \"Summarize the following report: {report}\",\n",
    "    input_variables=[\"report\"],\n",
    ")\n",
    "\n",
    "model = ChatOpenAI()\n",
    "\n",
    "parser = StrOutputParser()\n",
    "\n",
    "report_gen_chain = RunnableSequence(\n",
    "    prompt1,\n",
    "    model,\n",
    "    parser,\n",
    ")\n",
    "\n",
    "branch_chain = RunnableBranch(\n",
    "    (lambda x : len(x.split()) > 500, RunnableSequence(\n",
    "        prompt2,\n",
    "        model,\n",
    "        parser,\n",
    "    )),\n",
    "    RunnablePassthrough()\n",
    ")\n",
    "\n",
    "final_chain = RunnableSequence(\n",
    "    report_gen_chain,\n",
    "    branch_chain,\n",
    ")\n",
    "\n",
    "response = final_chain.invoke({\"topic\": \"AI Agents\"})\n",
    "print(response)"
   ]
  },
  {
   "cell_type": "markdown",
   "id": "fe275567",
   "metadata": {},
   "source": [
    "### LCEL"
   ]
  },
  {
   "cell_type": "code",
   "execution_count": 16,
   "id": "8cc0052a",
   "metadata": {},
   "outputs": [
    {
     "name": "stdout",
     "output_type": "stream",
     "text": [
      "Introduction: AI agents, also known as artificial intelligence agents, are intelligent software systems that can perform tasks autonomously without human intervention. These agents are designed to learn from their environment, make decisions, and interact with other agents to achieve a specific goal. In this report, we will discuss the different types of AI agents, their applications, advantages, and challenges.\n",
      "\n",
      "Types of AI Agents:\n",
      "1. Reactive Agents: These agents are designed to react to their environment based on pre-defined rules or algorithms. They do not have the ability to learn from past experiences.\n",
      "2. Deliberative Agents: These agents are capable of planning and reasoning about their actions based on their goals and objectives. They make decisions by considering long-term consequences.\n",
      "3. Hybrid Agents: These agents combine reactive and deliberative approaches to make decisions in complex environments. They can learn from past experiences and adjust their behavior accordingly.\n",
      "\n",
      "Applications of AI Agents:\n",
      "1. Autonomous Vehicles: AI agents are used in self-driving cars to navigate through traffic, avoid accidents, and make decisions in real-time.\n",
      "2. Customer Service: Chatbots and virtual assistants are AI agents that can interact with customers, answer questions, and provide support.\n",
      "3. Healthcare: AI agents are used in medical diagnosis, drug discovery, and personalized patient care.\n",
      "4. Finance: AI agents are used in algorithmic trading, fraud detection, and risk assessment in the financial services industry.\n",
      "5. Gaming: AI agents are used in video games to simulate human-like behavior and challenge players.\n",
      "\n",
      "Advantages of AI Agents:\n",
      "1. Efficiency: AI agents can perform tasks faster and more accurately than humans, leading to increased productivity.\n",
      "2. Adaptability: AI agents can learn from their environment and adapt their behavior to new situations.\n",
      "3. Scalability: AI agents can be deployed at scale to handle large volumes of data and tasks simultaneously.\n",
      "4. Cost-Effective: AI agents can reduce operational costs by automating repetitive tasks and reducing human labor.\n",
      "\n",
      "Challenges of AI Agents:\n",
      "1. Ethical Concerns: AI agents can perpetuate biases and discrimination if not trained properly or monitored.\n",
      "2. Accountability: It can be challenging to determine who is responsible for the decisions made by AI agents in complex situations.\n",
      "3. Security: AI agents can be vulnerable to cyber attacks and can be used for malicious purposes if not properly secured.\n",
      "4. Regulation: There is a lack of clear regulations and guidelines on the use of AI agents, leading to potential misuse and ethical dilemmas.\n",
      "\n",
      "Conclusion: AI agents are intelligent software systems that are revolutionizing various industries by automating tasks, improving efficiency, and enhancing decision-making processes. While the potential benefits of AI agents are vast, there are also challenges that need to be addressed to ensure responsible and ethical use. As technology continues to advance, the role of AI agents in our society will continue to evolve, leading to exciting possibilities and new opportunities.\n"
     ]
    }
   ],
   "source": [
    "from langchain_openai import ChatOpenAI\n",
    "from langchain_core.prompts import PromptTemplate\n",
    "from langchain_core.output_parsers import StrOutputParser\n",
    "from dotenv import load_dotenv\n",
    "from langchain_core.runnables import RunnableSequence, RunnableParallel, RunnablePassthrough, RunnableLambda, RunnableBranch\n",
    "\n",
    "load_dotenv()\n",
    "\n",
    "prompt1 = PromptTemplate(\n",
    "    template= \"Write a detaled report on the following topic: {topic}\",\n",
    "    input_variables=[\"topic\"],\n",
    ")\n",
    "\n",
    "prompt2 = PromptTemplate(\n",
    "    template= \"Summarize the following report: {report}\",\n",
    "    input_variables=[\"report\"],\n",
    ")\n",
    "\n",
    "model = ChatOpenAI()\n",
    "\n",
    "parser = StrOutputParser()\n",
    "\n",
    "report_gen_chain = prompt1 | model | parser \n",
    "\n",
    "branch_chain = RunnableBranch(\n",
    "    (lambda x : len(x.split()) > 500, RunnableSequence(\n",
    "        prompt2,\n",
    "        model,\n",
    "        parser,\n",
    "    )),\n",
    "    RunnablePassthrough()\n",
    ")\n",
    "\n",
    "final_chain = RunnableSequence(\n",
    "    report_gen_chain,\n",
    "    branch_chain,\n",
    ")\n",
    "\n",
    "response = final_chain.invoke({\"topic\": \"AI Agents\"})\n",
    "print(response)"
   ]
  }
 ],
 "metadata": {
  "kernelspec": {
   "display_name": ".venv",
   "language": "python",
   "name": "python3"
  },
  "language_info": {
   "codemirror_mode": {
    "name": "ipython",
    "version": 3
   },
   "file_extension": ".py",
   "mimetype": "text/x-python",
   "name": "python",
   "nbconvert_exporter": "python",
   "pygments_lexer": "ipython3",
   "version": "3.11.12"
  }
 },
 "nbformat": 4,
 "nbformat_minor": 5
}
