{
 "cells": [
  {
   "cell_type": "markdown",
   "id": "44814df6",
   "metadata": {},
   "source": [
    "## Simple llm"
   ]
  },
  {
   "cell_type": "code",
   "execution_count": 8,
   "id": "eab10c8f",
   "metadata": {},
   "outputs": [
    {
     "name": "stdout",
     "output_type": "stream",
     "text": [
      "Suggested blog title: \n",
      "\n",
      "\"Unleashing the Power of AI Agents: Revolutionizing the Future\"\n"
     ]
    }
   ],
   "source": [
    "from langchain.llms import OpenAI\n",
    "from langchain.prompts import PromptTemplate\n",
    "\n",
    "# initialize the OpenAI LLM\n",
    "llm = OpenAI(temperature=0.7)\n",
    "\n",
    "prompt = PromptTemplate(\n",
    "    input_variables=[\"topic\"],\n",
    "    template= \"Suggest a catchy blog title about {topic}\",\n",
    ")\n",
    "\n",
    "topic = 'AI Agents'\n",
    "\n",
    "formatted_prompt = prompt.format(topic=topic)\n",
    "# Call the LLM with the formatted prompt\n",
    "blog_title = llm.predict(formatted_prompt)\n",
    "print(f\"Suggested blog title: {blog_title}\")"
   ]
  },
  {
   "cell_type": "markdown",
   "id": "7464ea7e",
   "metadata": {},
   "source": [
    "### pdf reader"
   ]
  },
  {
   "cell_type": "code",
   "execution_count": 21,
   "id": "af0171f4",
   "metadata": {},
   "outputs": [
    {
     "name": "stdout",
     "output_type": "stream",
     "text": [
      "\n",
      "\n",
      "AI agents are the latest form of artificial intelligence that is rapidly gaining popularity in various industries. These digital helpers are designed to assist and support humans in various tasks, making our lives easier and more efficient. They are programmed to learn from data, analyze information, and make decisions based on the available data. With their ability to continuously learn and adapt, AI agents have the potential to revolutionize the way we live and work in the future.\n",
      "\n",
      "What is the potential impact of AI agents on our lives and work?\n",
      "\n",
      "The potential impact of AI agents on our lives and work is significant. They have the ability to make our lives easier and more efficient by assisting and supporting us in various tasks. Their continuous learning and adaptability can also lead to the revolutionization of the way we live and work, potentially improving productivity and efficiency in various industries. However, there may also be concerns about the potential replacement of human jobs by AI agents. Overall, the impact of AI agents on our lives and work is still evolving and will continue to shape our future.\n"
     ]
    }
   ],
   "source": [
    "from langchain.document_loaders import TextLoader\n",
    "from langchain.text_splitter import RecursiveCharacterTextSplitter\n",
    "from langchain.embeddings import OpenAIEmbeddings\n",
    "from langchain.vectorstores import FAISS\n",
    "from langchain.llms import OpenAI\n",
    "\n",
    "# load the document\n",
    "loader = TextLoader('agents.txt')\n",
    "documents = loader.load()\n",
    "\n",
    "# # print the document list\n",
    "# for doc in documents:\n",
    "#     print(doc.page_content)\n",
    "#     print(len(doc.page_content))\n",
    "\n",
    "# split the document into chunks\n",
    "text_splitter = RecursiveCharacterTextSplitter(chunk_size=80, chunk_overlap=20)\n",
    "docs = text_splitter.split_documents(documents)\n",
    "\n",
    "# convert the text into embeddings & store in FAISS\n",
    "embeddings = OpenAIEmbeddings()\n",
    "\n",
    "vectorstore = FAISS.from_documents(docs, embeddings)\n",
    "\n",
    "retriever = vectorstore.as_retriever(search_kwargs={\"k\": 1})\n",
    "\n",
    "# Manually retrive the document\n",
    "query = \"What is an agent?\"\n",
    "retrived_docs = retriever.get_relevant_documents(query)\n",
    "\n",
    "# combine rerived text int a single prompt\n",
    "retrived_text = \"\".join([doc.page_content for doc in retrived_docs])\n",
    "# print the retrived text\n",
    "# print(retrived_text)\n",
    "\n",
    "# Call the LLM with the retrived text\n",
    "llm = OpenAI(temperature=0.7)\n",
    "\n",
    "# Manually pass the retrieved text to the llm\n",
    "prompt = PromptTemplate(\n",
    "    input_variables=[\"retrived_text\"],\n",
    "    template= \"Answer the question based on the context: {retrived_text}\",\n",
    ")\n",
    "formatted_prompt = prompt.format(retrived_text=retrived_text)\n",
    "answer = llm.predict(formatted_prompt)\n",
    "print(answer)\n"
   ]
  },
  {
   "cell_type": "markdown",
   "id": "a554c952",
   "metadata": {},
   "source": [
    "### LLM Chain"
   ]
  },
  {
   "cell_type": "code",
   "execution_count": null,
   "id": "1e430a27",
   "metadata": {},
   "outputs": [
    {
     "name": "stdout",
     "output_type": "stream",
     "text": [
      "Suggested blog title: \n",
      "\"Unleashing the Power of AI Agents: Revolutionizing the Future\"\n"
     ]
    }
   ],
   "source": [
    "from langchain.llms import OpenAI\n",
    "from langchain.prompts import PromptTemplate\n",
    "from langchain.chains import LLMChain\n",
    "\n",
    "# initialize the OpenAI LLM\n",
    "llm = OpenAI(temperature=0.7)\n",
    "\n",
    "prompt = PromptTemplate(\n",
    "    input_variables=[\"topic\"],\n",
    "    template= \"Suggest a catchy blog title about {topic}\",\n",
    ")\n",
    "\n",
    "# chain a llm \n",
    "chain = LLMChain(llm=llm, prompt=prompt)\n",
    "# Call the chain with the topic\n",
    "topic = 'AI Agents'\n",
    "result = chain.run(topic)\n",
    "print(f\"Suggested blog title: {result}\")\n"
   ]
  },
  {
   "cell_type": "markdown",
   "id": "c202d6d0",
   "metadata": {},
   "source": [
    "### RetrieveQA Chain"
   ]
  },
  {
   "cell_type": "code",
   "execution_count": 26,
   "id": "7fb6b35f",
   "metadata": {},
   "outputs": [
    {
     "name": "stdout",
     "output_type": "stream",
     "text": [
      "\n",
      "An agent is a computer program or algorithm that is designed to perform specific tasks or make decisions on behalf of a user. It is typically used in artificial intelligence systems to assist with various tasks and automate processes.\n"
     ]
    }
   ],
   "source": [
    "from langchain.document_loaders import TextLoader\n",
    "from langchain.text_splitter import RecursiveCharacterTextSplitter\n",
    "from langchain.embeddings import OpenAIEmbeddings\n",
    "from langchain.vectorstores import FAISS\n",
    "from langchain.llms import OpenAI\n",
    "from langchain.chains import RetrievalQA\n",
    "\n",
    "# load the document\n",
    "loader = TextLoader('agents.txt')\n",
    "documents = loader.load()\n",
    "\n",
    "# # print the document list\n",
    "# for doc in documents:\n",
    "#     print(doc.page_content)\n",
    "#     print(len(doc.page_content))\n",
    "\n",
    "# split the document into chunks\n",
    "text_splitter = RecursiveCharacterTextSplitter(chunk_size=80, chunk_overlap=20)\n",
    "docs = text_splitter.split_documents(documents)\n",
    "\n",
    "# convert the text into embeddings & store in FAISS\n",
    "embeddings = OpenAIEmbeddings()\n",
    "\n",
    "vectorstore = FAISS.from_documents(docs, embeddings)\n",
    "\n",
    "retriever = vectorstore.as_retriever(search_kwargs={\"k\": 1})\n",
    "\n",
    "\n",
    "# Call the LLM with the retrived text\n",
    "llm = OpenAI(temperature=0.7)\n",
    "\n",
    "\n",
    "qa_chain = RetrievalQA.from_chain_type(\n",
    "    llm=llm,\n",
    "    retriever=retriever,\n",
    ")\n",
    "\n",
    "query = \"What is an agent?\"\n",
    "answer = qa_chain.run(query)\n",
    "print(answer)\n",
    "\n",
    "\n",
    "# # Manually pass the retrieved text to the llm\n",
    "# prompt = PromptTemplate(\n",
    "#     input_variables=[\"retrived_text\"],\n",
    "#     template= \"Answer the question based on the context: {retrived_text}\",\n",
    "# )\n",
    "# formatted_prompt = prompt.format(retrived_text=retrived_text)\n",
    "# answer = llm.predict(formatted_prompt)\n",
    "# print(answer)\n"
   ]
  }
 ],
 "metadata": {
  "kernelspec": {
   "display_name": ".venv",
   "language": "python",
   "name": "python3"
  },
  "language_info": {
   "codemirror_mode": {
    "name": "ipython",
    "version": 3
   },
   "file_extension": ".py",
   "mimetype": "text/x-python",
   "name": "python",
   "nbconvert_exporter": "python",
   "pygments_lexer": "ipython3",
   "version": "3.11.12"
  }
 },
 "nbformat": 4,
 "nbformat_minor": 5
}
