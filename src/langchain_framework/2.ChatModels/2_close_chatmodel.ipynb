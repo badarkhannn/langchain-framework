{
 "cells": [
  {
   "cell_type": "code",
   "execution_count": null,
   "id": "89daca88",
   "metadata": {},
   "outputs": [],
   "source": [
    "from langchain_huggingface import ChatHuggingFace, HuggingFaceEndpoint\n",
    "from dotenv import load_dotenv\n",
    "\n",
    "load_dotenv()"
   ]
  },
  {
   "cell_type": "code",
   "execution_count": null,
   "id": "3cbe1c95",
   "metadata": {},
   "outputs": [],
   "source": [
    "import os\n",
    "\n",
    "# load the huggingface ap token\n",
    "\n",
    "hf_api_token = os.getenv(\"HUGGINGFACEHUB_API_TOKEN\")\n",
    "print(\"Hugging Face API token loaded:\", bool(hf_api_token))"
   ]
  },
  {
   "cell_type": "code",
   "execution_count": 27,
   "id": "e064a4e9",
   "metadata": {},
   "outputs": [],
   "source": [
    "llm = HuggingFaceEndpoint(\n",
    "    repo_id=\"TinyLlama/TinyLlama-1.1B-Chat-v1.0\",\n",
    "    task=\"text-generation\")\n",
    "\n",
    "model = ChatHuggingFace(llm=llm)"
   ]
  },
  {
   "cell_type": "code",
   "execution_count": null,
   "id": "16dbe28d",
   "metadata": {},
   "outputs": [],
   "source": [
    "model"
   ]
  },
  {
   "cell_type": "code",
   "execution_count": 53,
   "id": "b44afde5",
   "metadata": {},
   "outputs": [],
   "source": [
    "# model.invoke(\n",
    "#     \"What is the capital of France?\",\n",
    "# )"
   ]
  },
  {
   "cell_type": "markdown",
   "id": "20eb3951",
   "metadata": {},
   "source": [
    "## Load loally HF"
   ]
  },
  {
   "cell_type": "code",
   "execution_count": null,
   "id": "46677896",
   "metadata": {},
   "outputs": [],
   "source": [
    "from langchain_huggingface import ChatHuggingFace, HuggingFacePipeline\n",
    "\n",
    "llm = HuggingFacePipeline(\n",
    "    model_id=\"TinyLlama/TinyLlama-1.1B-Chat-v1.0\",\n",
    "    task=\"text-generation\",\n",
    "    pipeline = {\n",
    "        \"task\": \"text-generation\",\n",
    "        \"model\": \"TinyLlama/TinyLlama-1.1B-Chat-v1.0\",\n",
    "        \"tokenizer\": \"TinyLlama/TinyLlama-1.1B-Chat-v1.0\",\n",
    "        \"config\": {\n",
    "            \"max_length\": 512,\n",
    "            \"temperature\": 0.7,\n",
    "            \"top_p\": 0.9,\n",
    "            \"repetition_penalty\": 1.2,\n",
    "            \"num_return_sequences\": 1\n",
    "        }\n",
    "    }\n",
    ")\n",
    "\n",
    "model = ChatHuggingFace(llm = llm)"
   ]
  }
 ],
 "metadata": {
  "kernelspec": {
   "display_name": ".venv",
   "language": "python",
   "name": "python3"
  },
  "language_info": {
   "codemirror_mode": {
    "name": "ipython",
    "version": 3
   },
   "file_extension": ".py",
   "mimetype": "text/x-python",
   "name": "python",
   "nbconvert_exporter": "python",
   "pygments_lexer": "ipython3",
   "version": "3.11.12"
  }
 },
 "nbformat": 4,
 "nbformat_minor": 5
}
