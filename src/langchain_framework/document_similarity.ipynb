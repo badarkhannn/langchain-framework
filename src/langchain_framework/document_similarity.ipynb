{
 "cells": [
  {
   "cell_type": "code",
   "execution_count": 13,
   "id": "94c619fd",
   "metadata": {},
   "outputs": [
    {
     "data": {
      "text/plain": [
       "True"
      ]
     },
     "execution_count": 13,
     "metadata": {},
     "output_type": "execute_result"
    }
   ],
   "source": [
    "from langchain_openai import OpenAIEmbeddings\n",
    "from dotenv import load_dotenv\n",
    "from sklearn.metrics.pairwise import cosine_similarity\n",
    "import numpy as np\n",
    "\n",
    "load_dotenv()"
   ]
  },
  {
   "cell_type": "code",
   "execution_count": 14,
   "id": "a365cf52",
   "metadata": {},
   "outputs": [],
   "source": [
    "embeddings = OpenAIEmbeddings(model=\"text-embedding-3-large\", dimensions=32)\n",
    "\n",
    "documents = [\n",
    "    \"The quick brown fox jumps over the lazy dog.\",\n",
    "    \"A journey of a thousand miles begins with a single step.\",\n",
    "    \"To be or not to be, that is the question.\",\n",
    "    \"All that glitters is not gold.\",\n",
    "    \"The only thing we have to fear is fear itself.\",\n",
    "    \"In the end, we will remember not the words of our enemies, but the silence of our friends.\",\n",
    "    \"The greatest glory in living lies not in never falling, but in rising every time we fall.\",\n",
    "    \"The future belongs to those who believe in the beauty of their dreams.\",\n",
    "    \"Life is what happens when you're busy making other plans.\",\n",
    "    \"The purpose of our lives is to be happy.\"]"
   ]
  },
  {
   "cell_type": "code",
   "execution_count": 16,
   "id": "47ffebba",
   "metadata": {},
   "outputs": [],
   "source": [
    "query = \"What is the purpose of life?\"\n",
    "\n",
    "document_embeddings = embeddings.embed_documents(documents)\n",
    "query_embedding = embeddings.embed_query(query)"
   ]
  },
  {
   "cell_type": "code",
   "execution_count": 30,
   "id": "244bb878",
   "metadata": {},
   "outputs": [
    {
     "name": "stdout",
     "output_type": "stream",
     "text": [
      "Query: What is the purpose of life?\n",
      "The purpose of our lives is to be happy.\n",
      "Score: 0.6772683836862361\n"
     ]
    }
   ],
   "source": [
    "scores = cosine_similarity(\n",
    "    [query_embedding],\n",
    "    document_embeddings \n",
    ")[0]\n",
    "\n",
    "indexs, score = sorted(list(enumerate(scores)), key=lambda x: x[1])[-1]\n",
    "print(f\"Query: {query}\")\n",
    "print(documents[indexs])\n",
    "print(f\"Score: {score}\")"
   ]
  },
  {
   "cell_type": "code",
   "execution_count": 24,
   "id": "6049bf08",
   "metadata": {},
   "outputs": [
    {
     "name": "stdout",
     "output_type": "stream",
     "text": [
      "Top 3 most similar documents:\n",
      "Document: The purpose of our lives is to be happy.\n",
      "Score: 0.6772683836862361\n",
      "\n",
      "Document: To be or not to be, that is the question.\n",
      "Score: 0.5383528423622682\n",
      "\n",
      "Document: The only thing we have to fear is fear itself.\n",
      "Score: 0.37163735462843417\n",
      "\n"
     ]
    }
   ],
   "source": [
    "scores = cosine_similarity(\n",
    "    [query_embedding],\n",
    "    document_embeddings \n",
    ")[0]\n",
    "scores = list(enumerate(scores))\n",
    "scores = sorted(scores, key=lambda x: x[1], reverse=True)\n",
    "print(\"Top 3 most similar documents:\")\n",
    "for i, score in scores[:3]:\n",
    "    print(f\"Document: {documents[i]}\\nScore: {score}\\n\")"
   ]
  },
  {
   "cell_type": "code",
   "execution_count": 19,
   "id": "e7f7bb32",
   "metadata": {},
   "outputs": [
    {
     "name": "stdout",
     "output_type": "stream",
     "text": [
      "Top 3 most similar documents:\n",
      "Document: The purpose of our lives is to be happy.\n",
      "Score: 0.6773\n",
      "\n",
      "Document: To be or not to be, that is the question.\n",
      "Score: 0.5384\n",
      "\n",
      "Document: The only thing we have to fear is fear itself.\n",
      "Score: 0.3716\n",
      "\n",
      "Top 3 least similar documents:\n"
     ]
    }
   ],
   "source": [
    "cosine_similarities = cosine_similarity(\n",
    "    np.array(query_embedding).reshape(1, -1),\n",
    "    np.array(document_embeddings)\n",
    ")\n",
    "similarities = cosine_similarities.flatten()\n",
    "similarity_scores = list(zip(documents, similarities))\n",
    "similarity_scores.sort(key=lambda x: x[1], reverse=True)    \n",
    "print(\"Top 3 most similar documents:\")\n",
    "for doc, score in similarity_scores[:3]:\n",
    "    print(f\"Document: {doc}\\nScore: {score:.4f}\\n\")\n",
    "print(\"Top 3 least similar documents:\")\n"
   ]
  }
 ],
 "metadata": {
  "kernelspec": {
   "display_name": ".venv",
   "language": "python",
   "name": "python3"
  },
  "language_info": {
   "codemirror_mode": {
    "name": "ipython",
    "version": 3
   },
   "file_extension": ".py",
   "mimetype": "text/x-python",
   "name": "python",
   "nbconvert_exporter": "python",
   "pygments_lexer": "ipython3",
   "version": "3.11.12"
  }
 },
 "nbformat": 4,
 "nbformat_minor": 5
}
