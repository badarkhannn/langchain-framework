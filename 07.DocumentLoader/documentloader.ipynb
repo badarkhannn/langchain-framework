{
 "cells": [
  {
   "cell_type": "markdown",
   "id": "889897c2",
   "metadata": {},
   "source": [
    "## Doucment loader"
   ]
  },
  {
   "cell_type": "markdown",
   "id": "6c279813",
   "metadata": {},
   "source": [
    "### TextLoader"
   ]
  },
  {
   "cell_type": "code",
   "execution_count": 1,
   "id": "ddb6671f",
   "metadata": {},
   "outputs": [
    {
     "name": "stdout",
     "output_type": "stream",
     "text": [
      "The focus of artificial intelligence (AI) is shifting towards dynamic, autonomous AI agents capable of reasoning, planning, and acting in pursuit of goals, giving rise to agentic AI systems. AI agents perceive their environment, reason about it, and take actions to achieve specific goals, exhibiting varying levels of autonomy, memory, self-reflection, and collaboration within the agentic AI framework. Agentic AI offers benefits such as autonomy and scalability, goal-oriented problem solving, memory and learning over time, multi-agent collaboration, and tool use and API integration, which are transforming industries like healthcare, finance, education, e-commerce, and software development. Technological foundations such as large language models, frameworks like LangChain and AutoGen, and tools like Pinecone and SerpAPI are driving this shift towards agentic AI, although challenges related to safety, alignment, evaluation, and cost remain. In the future, AI agents will likely become our collaborators and teammates, driving the systems we interact with from enterprise automation to personalized assistants and research collaborators.\n"
     ]
    }
   ],
   "source": [
    "from langchain_community.document_loaders import TextLoader\n",
    "from langchain_openai import ChatOpenAI\n",
    "from langchain_core.prompts import PromptTemplate\n",
    "#import STROutputparser\n",
    "from langchain_core.output_parsers import StrOutputParser\n",
    "from dotenv import load_dotenv\n",
    "\n",
    "\n",
    "loader = TextLoader(\"agent-and-agenticai.txt\")\n",
    "\n",
    "docs = loader.load()\n",
    "# print(docs[0].page_content)\n",
    "\n",
    "load_dotenv()\n",
    "\n",
    "model = ChatOpenAI()\n",
    "\n",
    "prompt = PromptTemplate(\n",
    "    template=\"Write a summary of the following text in 5 sentences: {text}\",\n",
    "    input_variables=[\"text\"],\n",
    ")\n",
    "\n",
    "parser = StrOutputParser()\n",
    "\n",
    "chain = prompt | model | parser\n",
    "\n",
    "response = chain.invoke({\"text\": docs[0].page_content})\n",
    "print(response)\n"
   ]
  },
  {
   "cell_type": "markdown",
   "id": "04be6b60",
   "metadata": {},
   "source": [
    "### PyPDF Loader"
   ]
  },
  {
   "cell_type": "code",
   "execution_count": null,
   "id": "4e62e54f",
   "metadata": {},
   "outputs": [],
   "source": [
    "from langchain_community.document_loaders import PythonLoader\n",
    "\n",
    "loader = PythonLoader(\"Padre-rico-padre-pobre-nueva-es.pdf\")\n",
    "\n",
    "docs = loader.load()\n",
    "\n",
    "# print(docs[0].page_content)"
   ]
  },
  {
   "cell_type": "markdown",
   "id": "46351f67",
   "metadata": {},
   "source": [
    "### DirectoryLoader"
   ]
  },
  {
   "cell_type": "code",
   "execution_count": null,
   "id": "8fd1049f",
   "metadata": {},
   "outputs": [],
   "source": [
    "from langchain_community.document_loaders import DirectoryLoader, PyPDFLoader\n",
    "\n",
    "loader = DirectoryLoader(\n",
    "    path = \"\",\n",
    "    glob = \"*.pdf\",\n",
    "    loader_class = PyPDFLoader,\n",
    ")\n",
    "\n",
    "docs = loader.load()\n",
    "# print(docs[0].page_content)"
   ]
  },
  {
   "cell_type": "code",
   "execution_count": null,
   "id": "6cc6adc6",
   "metadata": {},
   "outputs": [],
   "source": [
    "### Load vs Lazy load"
   ]
  },
  {
   "cell_type": "markdown",
   "id": "6fbca6c0",
   "metadata": {},
   "source": [
    "### WebBaseLoader"
   ]
  },
  {
   "cell_type": "code",
   "execution_count": null,
   "id": "3dc6c398",
   "metadata": {},
   "outputs": [],
   "source": [
    "from langchain_community.document_loaders import WebBaseLoader\n",
    "\n",
    "url = \"http://deepunlock.com/\"\n",
    "\n",
    "loader = WebBaseLoader(url)\n",
    "\n",
    "docs = loader.load()\n",
    "# print(docs[0].page_content)"
   ]
  },
  {
   "cell_type": "markdown",
   "id": "2839293f",
   "metadata": {},
   "source": [
    "### CSV Loader"
   ]
  },
  {
   "cell_type": "code",
   "execution_count": null,
   "id": "d4da0e8a",
   "metadata": {},
   "outputs": [],
   "source": [
    "from langchain_community.document_loaders import CSVLoader\n",
    "\n",
    "loader = CSVLoader(\"data.csv\")\n",
    "\n",
    "docs = loader.load()\n",
    "# print(docs[0].page_content)"
   ]
  }
 ],
 "metadata": {
  "kernelspec": {
   "display_name": ".venv",
   "language": "python",
   "name": "python3"
  },
  "language_info": {
   "codemirror_mode": {
    "name": "ipython",
    "version": 3
   },
   "file_extension": ".py",
   "mimetype": "text/x-python",
   "name": "python",
   "nbconvert_exporter": "python",
   "pygments_lexer": "ipython3",
   "version": "3.11.12"
  }
 },
 "nbformat": 4,
 "nbformat_minor": 5
}
