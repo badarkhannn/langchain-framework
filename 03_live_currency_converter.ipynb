{
 "cells": [
  {
   "cell_type": "markdown",
   "id": "ff5b1a87",
   "metadata": {},
   "source": [
    "## Currency Conversion Tool"
   ]
  },
  {
   "cell_type": "markdown",
   "id": "d2dc791f",
   "metadata": {},
   "source": [
    "https://www.exchangerate-api.com/"
   ]
  },
  {
   "cell_type": "code",
   "execution_count": 46,
   "id": "fd1193b2",
   "metadata": {},
   "outputs": [],
   "source": [
    "from langchain_openai import ChatOpenAI\n",
    "from langchain_core.tools import tool\n",
    "from langchain_core.messages import HumanMessage\n",
    "import requests\n",
    "import os\n",
    "from dotenv import load_dotenv\n",
    "from langchain_core.tools import InjectedToolArg\n",
    "from typing import Annotated\n",
    "load_dotenv()\n",
    "\n",
    "\n",
    "@tool\n",
    "def get_conversion_factor(base_currency: str, target_currency: str) -> float:\n",
    "    \"\"\"\n",
    "    Get the conversion factor from base_currency to target_currency.\n",
    "    \"\"\"\n",
    "    url = f\"https://v6.exchangerate-api.com/v6/{os.environ['EXCHANGERATE_API_KEY']}/pair/{base_currency}/{target_currency}\"\n",
    "\n",
    "    response = requests.get(url)\n",
    "    if response.status_code != 200:\n",
    "        raise ValueError(f\"Error fetching conversion rate: {response.text}\")\n",
    "    \n",
    "    data = response.json()\n",
    "    if 'conversion_rate' not in data:\n",
    "        raise ValueError(\"Conversion rate not found in response.\")\n",
    "    \n",
    "    return response.json()\n",
    "\n",
    "\n",
    "\n",
    "@tool\n",
    "def convert(base_currency_value: int, conversion_rate: Annotated[float, InjectedToolArg]) -> float:\n",
    "    \"\"\"\n",
    "    Convert an amount from base_currency to target_currency using the conversion rate.\n",
    "    \"\"\"\n",
    "    return base_currency_value * conversion_rate"
   ]
  },
  {
   "cell_type": "code",
   "execution_count": 47,
   "id": "900283a9",
   "metadata": {},
   "outputs": [
    {
     "data": {
      "text/plain": [
       "{'base_currency_value': {'title': 'Base Currency Value', 'type': 'integer'},\n",
       " 'conversion_rate': {'title': 'Conversion Rate', 'type': 'number'}}"
      ]
     },
     "execution_count": 47,
     "metadata": {},
     "output_type": "execute_result"
    }
   ],
   "source": [
    "convert.args"
   ]
  },
  {
   "cell_type": "code",
   "execution_count": 48,
   "id": "3e409bc4",
   "metadata": {},
   "outputs": [
    {
     "data": {
      "text/plain": [
       "{'result': 'success',\n",
       " 'documentation': 'https://www.exchangerate-api.com/docs',\n",
       " 'terms_of_use': 'https://www.exchangerate-api.com/terms',\n",
       " 'time_last_update_unix': 1748908802,\n",
       " 'time_last_update_utc': 'Tue, 03 Jun 2025 00:00:02 +0000',\n",
       " 'time_next_update_unix': 1748995202,\n",
       " 'time_next_update_utc': 'Wed, 04 Jun 2025 00:00:02 +0000',\n",
       " 'base_code': 'USD',\n",
       " 'target_code': 'PKR',\n",
       " 'conversion_rate': 281.8059}"
      ]
     },
     "execution_count": 48,
     "metadata": {},
     "output_type": "execute_result"
    }
   ],
   "source": [
    "get_conversion_factor.invoke({'base_currency':'USD','target_currency':'PKR'})"
   ]
  },
  {
   "cell_type": "code",
   "execution_count": 49,
   "id": "72f03b54",
   "metadata": {},
   "outputs": [
    {
     "data": {
      "text/plain": [
       "851.5999999999999"
      ]
     },
     "execution_count": 49,
     "metadata": {},
     "output_type": "execute_result"
    }
   ],
   "source": [
    "convert.invoke({'base_currency_value':10, 'conversion_rate':85.16})"
   ]
  },
  {
   "cell_type": "code",
   "execution_count": 50,
   "id": "0c08e4ae",
   "metadata": {},
   "outputs": [],
   "source": [
    "# tool binding\n",
    "llm = ChatOpenAI()"
   ]
  },
  {
   "cell_type": "code",
   "execution_count": 51,
   "id": "a380f751",
   "metadata": {},
   "outputs": [],
   "source": [
    "llm_with_tools = llm.bind_tools([get_conversion_factor, convert])"
   ]
  },
  {
   "cell_type": "code",
   "execution_count": 53,
   "id": "59fdfaba",
   "metadata": {},
   "outputs": [],
   "source": [
    "messages = [HumanMessage('What is the conversion factor between pkr and USD, and based on that can you convert 10 pkr to usd')]"
   ]
  },
  {
   "cell_type": "code",
   "execution_count": 54,
   "id": "f8f24e6b",
   "metadata": {},
   "outputs": [
    {
     "data": {
      "text/plain": [
       "[HumanMessage(content='What is the conversion factor between pkr and USD, and based on that can you convert 10 pkr to usd', additional_kwargs={}, response_metadata={})]"
      ]
     },
     "execution_count": 54,
     "metadata": {},
     "output_type": "execute_result"
    }
   ],
   "source": [
    "messages"
   ]
  },
  {
   "cell_type": "code",
   "execution_count": 55,
   "id": "5740f642",
   "metadata": {},
   "outputs": [],
   "source": [
    "ai_message = llm_with_tools.invoke(messages)"
   ]
  },
  {
   "cell_type": "code",
   "execution_count": 56,
   "id": "f5ae0343",
   "metadata": {},
   "outputs": [],
   "source": [
    "messages.append(ai_message)"
   ]
  },
  {
   "cell_type": "code",
   "execution_count": 57,
   "id": "d08d03f7",
   "metadata": {},
   "outputs": [
    {
     "data": {
      "text/plain": [
       "[{'name': 'get_conversion_factor',\n",
       "  'args': {'base_currency': 'PKR', 'target_currency': 'USD'},\n",
       "  'id': 'call_729bCvIAlSVaIXMylxzbzET3',\n",
       "  'type': 'tool_call'},\n",
       " {'name': 'convert',\n",
       "  'args': {'base_currency_value': 10},\n",
       "  'id': 'call_3f2Opim4SiJ6VnJzbWvIiADh',\n",
       "  'type': 'tool_call'}]"
      ]
     },
     "execution_count": 57,
     "metadata": {},
     "output_type": "execute_result"
    }
   ],
   "source": [
    "ai_message.tool_calls"
   ]
  },
  {
   "cell_type": "code",
   "execution_count": 58,
   "id": "95d23696",
   "metadata": {},
   "outputs": [],
   "source": [
    "import json\n",
    "\n",
    "for tool_call in ai_message.tool_calls:\n",
    "  # execute the 1st tool and get the value of conversion rate\n",
    "  if tool_call['name'] == 'get_conversion_factor':\n",
    "    tool_message1 = get_conversion_factor.invoke(tool_call)\n",
    "    # fetch this conversion rate\n",
    "    conversion_rate = json.loads(tool_message1.content)['conversion_rate']\n",
    "    # append this tool message to messages list\n",
    "    messages.append(tool_message1)\n",
    "  # execute the 2nd tool using the conversion rate from tool 1\n",
    "  if tool_call['name'] == 'convert':\n",
    "    # fetch the current arg\n",
    "    tool_call['args']['conversion_rate'] = conversion_rate\n",
    "    tool_message2 = convert.invoke(tool_call)\n",
    "    messages.append(tool_message2)\n",
    "\n"
   ]
  },
  {
   "cell_type": "code",
   "execution_count": 59,
   "id": "b50ea9c0",
   "metadata": {},
   "outputs": [
    {
     "data": {
      "text/plain": [
       "[HumanMessage(content='What is the conversion factor between pkr and USD, and based on that can you convert 10 pkr to usd', additional_kwargs={}, response_metadata={}),\n",
       " AIMessage(content='', additional_kwargs={'tool_calls': [{'id': 'call_729bCvIAlSVaIXMylxzbzET3', 'function': {'arguments': '{\"base_currency\": \"PKR\", \"target_currency\": \"USD\"}', 'name': 'get_conversion_factor'}, 'type': 'function'}, {'id': 'call_3f2Opim4SiJ6VnJzbWvIiADh', 'function': {'arguments': '{\"base_currency_value\": 10}', 'name': 'convert'}, 'type': 'function'}], 'refusal': None}, response_metadata={'token_usage': {'completion_tokens': 52, 'prompt_tokens': 111, 'total_tokens': 163, 'completion_tokens_details': {'accepted_prediction_tokens': 0, 'audio_tokens': 0, 'reasoning_tokens': 0, 'rejected_prediction_tokens': 0}, 'prompt_tokens_details': {'audio_tokens': 0, 'cached_tokens': 0}}, 'model_name': 'gpt-3.5-turbo-0125', 'system_fingerprint': None, 'id': 'chatcmpl-BeNu8bvpWULTdPegy13ZfjwHZ5n2y', 'service_tier': 'default', 'finish_reason': 'tool_calls', 'logprobs': None}, id='run--3e444b2f-09a7-4d24-a955-01923ec90d83-0', tool_calls=[{'name': 'get_conversion_factor', 'args': {'base_currency': 'PKR', 'target_currency': 'USD'}, 'id': 'call_729bCvIAlSVaIXMylxzbzET3', 'type': 'tool_call'}, {'name': 'convert', 'args': {'base_currency_value': 10, 'conversion_rate': 0.003549}, 'id': 'call_3f2Opim4SiJ6VnJzbWvIiADh', 'type': 'tool_call'}], usage_metadata={'input_tokens': 111, 'output_tokens': 52, 'total_tokens': 163, 'input_token_details': {'audio': 0, 'cache_read': 0}, 'output_token_details': {'audio': 0, 'reasoning': 0}}),\n",
       " ToolMessage(content='{\"result\": \"success\", \"documentation\": \"https://www.exchangerate-api.com/docs\", \"terms_of_use\": \"https://www.exchangerate-api.com/terms\", \"time_last_update_unix\": 1748908802, \"time_last_update_utc\": \"Tue, 03 Jun 2025 00:00:02 +0000\", \"time_next_update_unix\": 1748995202, \"time_next_update_utc\": \"Wed, 04 Jun 2025 00:00:02 +0000\", \"base_code\": \"PKR\", \"target_code\": \"USD\", \"conversion_rate\": 0.003549}', name='get_conversion_factor', tool_call_id='call_729bCvIAlSVaIXMylxzbzET3'),\n",
       " ToolMessage(content='0.03549', name='convert', tool_call_id='call_3f2Opim4SiJ6VnJzbWvIiADh')]"
      ]
     },
     "execution_count": 59,
     "metadata": {},
     "output_type": "execute_result"
    }
   ],
   "source": [
    "messages"
   ]
  },
  {
   "cell_type": "code",
   "execution_count": 60,
   "id": "d293d30f",
   "metadata": {},
   "outputs": [
    {
     "data": {
      "text/plain": [
       "'The conversion factor between PKR and USD is 0.003549. \\n\\nTherefore, 10 PKR is equal to 0.03549 USD.'"
      ]
     },
     "execution_count": 60,
     "metadata": {},
     "output_type": "execute_result"
    }
   ],
   "source": [
    "llm_with_tools.invoke(messages).content"
   ]
  },
  {
   "cell_type": "code",
   "execution_count": 61,
   "id": "4f024efd",
   "metadata": {},
   "outputs": [
    {
     "name": "stderr",
     "output_type": "stream",
     "text": [
      "C:\\Users\\Blue\\AppData\\Local\\Temp\\ipykernel_13784\\627313024.py:4: LangChainDeprecationWarning: LangChain agents will continue to be supported, but it is recommended for new use cases to be built with LangGraph. LangGraph offers a more flexible and full-featured framework for building agents, including support for tool-calling, persistence of state, and human-in-the-loop workflows. For details, refer to the `LangGraph documentation <https://langchain-ai.github.io/langgraph/>`_ as well as guides for `Migrating from AgentExecutor <https://python.langchain.com/docs/how_to/migrate_agent/>`_ and LangGraph's `Pre-built ReAct agent <https://langchain-ai.github.io/langgraph/how-tos/create-react-agent/>`_.\n",
      "  agent_executor = initialize_agent(\n"
     ]
    }
   ],
   "source": [
    "from langchain.agents import initialize_agent, AgentType\n",
    "\n",
    "# Step 5: Initialize the Agent ---\n",
    "agent_executor = initialize_agent(\n",
    "    tools=[get_conversion_factor, convert],\n",
    "    llm=llm,\n",
    "    agent=AgentType.STRUCTURED_CHAT_ZERO_SHOT_REACT_DESCRIPTION,  # using ReAct pattern\n",
    "    verbose=True  # shows internal thinking\n",
    ")"
   ]
  },
  {
   "cell_type": "code",
   "execution_count": 63,
   "id": "2fa2908b",
   "metadata": {},
   "outputs": [
    {
     "name": "stdout",
     "output_type": "stream",
     "text": [
      "\n",
      "\n",
      "\u001b[1m> Entering new AgentExecutor chain...\u001b[0m\n",
      "\u001b[32;1m\u001b[1;3mThought: The user wants to know how much 100 USD is in Pakistani Rupees (PKR).\n",
      "\n",
      "Action:\n",
      "```\n",
      "{\n",
      "  \"action\": \"get_conversion_factor\",\n",
      "  \"action_input\": {\n",
      "    \"base_currency\": \"USD\",\n",
      "    \"target_currency\": \"PKR\"\n",
      "  }\n",
      "}\n",
      "```  \n",
      "\u001b[0m\n",
      "Observation: \u001b[36;1m\u001b[1;3m{'result': 'success', 'documentation': 'https://www.exchangerate-api.com/docs', 'terms_of_use': 'https://www.exchangerate-api.com/terms', 'time_last_update_unix': 1748908802, 'time_last_update_utc': 'Tue, 03 Jun 2025 00:00:02 +0000', 'time_next_update_unix': 1748995202, 'time_next_update_utc': 'Wed, 04 Jun 2025 00:00:02 +0000', 'base_code': 'USD', 'target_code': 'PKR', 'conversion_rate': 281.8059}\u001b[0m\n",
      "Thought:\u001b[32;1m\u001b[1;3mAction:\n",
      "```\n",
      "{\n",
      "  \"action\": \"convert\",\n",
      "  \"action_input\": {\n",
      "    \"base_currency_value\": 100,\n",
      "    \"conversion_rate\": 281.8059\n",
      "  }\n",
      "}\n",
      "```\u001b[0m\n",
      "Observation: \u001b[33;1m\u001b[1;3m28180.59\u001b[0m\n",
      "Thought:\u001b[32;1m\u001b[1;3m{\n",
      "  \"action\": \"Final Answer\",\n",
      "  \"action_input\": \"100 USD is approximately 28,180.59 PKR\"\n",
      "}\u001b[0m\n",
      "\n",
      "\u001b[1m> Finished chain.\u001b[0m\n"
     ]
    }
   ],
   "source": [
    "# --- Step 6: Run the Agent ---\n",
    "user_query = \"how much 100usd in pkr\"\n",
    "\n",
    "response = agent_executor.invoke({\"input\": user_query})"
   ]
  }
 ],
 "metadata": {
  "kernelspec": {
   "display_name": ".venv",
   "language": "python",
   "name": "python3"
  },
  "language_info": {
   "codemirror_mode": {
    "name": "ipython",
    "version": 3
   },
   "file_extension": ".py",
   "mimetype": "text/x-python",
   "name": "python",
   "nbconvert_exporter": "python",
   "pygments_lexer": "ipython3",
   "version": "3.11.12"
  }
 },
 "nbformat": 4,
 "nbformat_minor": 5
}
