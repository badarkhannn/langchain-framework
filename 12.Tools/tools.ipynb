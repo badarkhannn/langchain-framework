{
 "cells": [
  {
   "cell_type": "markdown",
   "id": "74f0c2c5",
   "metadata": {},
   "source": [
    "# Tools"
   ]
  },
  {
   "cell_type": "markdown",
   "id": "915af369",
   "metadata": {},
   "source": [
    "### Built-in TOol DuckDuckGo Search"
   ]
  },
  {
   "cell_type": "code",
   "execution_count": 6,
   "id": "1e1e6c7c",
   "metadata": {},
   "outputs": [
    {
     "name": "stdout",
     "output_type": "stream",
     "text": [
      "The number one challenge most freelancers face is knowing where to find clients. getty. You've followed all the obvious rules. You created a clear plan and set goals for your freelance business. The fastest way to get your first 10 clients with a new business is to start out by reaching out to your existing network. Word-of-mouth marketing is still very powerful and how many people get initial clients and reviews. Utilize your personal and professional connections, social media, and even former colleagues or classmates. Since we are agency brokers and have brokered millions of dollars for agencies & clients since launching in September 2022, we are providing this guide to help agency owners, managers, and leaders get more new clients. ... We can do it for just $5k. I'll show you how to manage the bookings too (super easy).We'd really love to build this for ... Creating a website and hoping potential clients find it; While you might get the occasional job using these strategies, the constant rejection is discouraging. Even if you do win a client using these strategies, these clients tend to be low quality and expect a lot of work for little pay. The best clients typically hire from referrals. If you're looking to learn how to get clients online, the methods in this guide will help you start making more money fast. Whether you're just starting out as a freelancer full-time, or as a side hustle, or your business is well underway and you're looking to find higher-ticket gigs, these strategies will help.. Building a business, including a freelance or consulting business, can be ...\n"
     ]
    }
   ],
   "source": [
    "from langchain_community.tools import DuckDuckGoSearchRun\n",
    "\n",
    "search_tool = DuckDuckGoSearchRun()\n",
    "\n",
    "result = search_tool.run(\"how to get a 5k dollar client\")\n",
    "print(result)"
   ]
  },
  {
   "cell_type": "markdown",
   "id": "efbafcd9",
   "metadata": {},
   "source": [
    "### Build in tool shell tool"
   ]
  },
  {
   "cell_type": "code",
   "execution_count": 8,
   "id": "438ac543",
   "metadata": {},
   "outputs": [
    {
     "name": "stdout",
     "output_type": "stream",
     "text": [
      "Executing command:\n",
      " echo 'Hello, World!'\n",
      "'Hello, World!'\n",
      "\n"
     ]
    },
    {
     "name": "stderr",
     "output_type": "stream",
     "text": [
      "d:\\langchain-framework\\.venv\\Lib\\site-packages\\langchain_community\\tools\\shell\\tool.py:33: UserWarning: The shell tool has no safeguards by default. Use at your own risk.\n",
      "  warnings.warn(\n"
     ]
    }
   ],
   "source": [
    "from langchain_community.tools import ShellTool\n",
    "\n",
    "shell_tool = ShellTool()\n",
    "result = shell_tool.run(\"echo 'Hello, World!'\")\n",
    "print(result)"
   ]
  },
  {
   "cell_type": "markdown",
   "id": "fa316c93",
   "metadata": {},
   "source": [
    "### Custom tools"
   ]
  },
  {
   "cell_type": "code",
   "execution_count": 19,
   "id": "a442165b",
   "metadata": {},
   "outputs": [
    {
     "name": "stdout",
     "output_type": "stream",
     "text": [
      "12\n",
      "multiply\n",
      "Multiplies two numbers.\n",
      "{'x': {'title': 'X', 'type': 'integer'}, 'y': {'title': 'Y', 'type': 'integer'}}\n",
      "{'description': 'Multiplies two numbers.', 'properties': {'x': {'title': 'X', 'type': 'integer'}, 'y': {'title': 'Y', 'type': 'integer'}}, 'required': ['x', 'y'], 'title': 'multiply', 'type': 'object'}\n"
     ]
    }
   ],
   "source": [
    "from langchain_core.tools import tool\n",
    "\n",
    "@tool\n",
    "def multiply(x: int, y: int) -> int:\n",
    "    \"\"\"Multiplies two numbers.\"\"\"\n",
    "    return x * y\n",
    "\n",
    "result = multiply.invoke({\"x\": 3, \"y\": 4})\n",
    "print(result)\n",
    "\n",
    "# Other\n",
    "print(multiply.name)\n",
    "print(multiply.description)\n",
    "print(multiply.args)\n",
    "\n",
    "# to the llm\n",
    "print(multiply.args_schema.model_json_schema())"
   ]
  },
  {
   "cell_type": "markdown",
   "id": "97658c13",
   "metadata": {},
   "source": [
    "### structured tool"
   ]
  },
  {
   "cell_type": "code",
   "execution_count": 23,
   "id": "42a10d02",
   "metadata": {},
   "outputs": [
    {
     "name": "stdout",
     "output_type": "stream",
     "text": [
      "30\n"
     ]
    }
   ],
   "source": [
    "from langchain.tools import StructuredTool\n",
    "from pydantic import BaseModel, Field\n",
    "\n",
    "class MultiplyInput(BaseModel):\n",
    "    x: int = Field(description=\"The first number to multiply.\")\n",
    "    y: int = Field(description=\"The second number to multiply.\")\n",
    "\n",
    "multiply_tool = StructuredTool.from_function(\n",
    "    func=multiply.func,  # use the underlying function\n",
    "    name=\"multiply\",\n",
    "    description=\"Multiplies two numbers.\",\n",
    "    args_schema=MultiplyInput,\n",
    ")\n",
    "\n",
    "result = multiply_tool.invoke({\"x\": 5, \"y\": 6})\n",
    "print(result)"
   ]
  },
  {
   "cell_type": "markdown",
   "id": "0a493072",
   "metadata": {},
   "source": [
    "### Base tool class"
   ]
  },
  {
   "cell_type": "code",
   "execution_count": 27,
   "id": "bd3c2b0f",
   "metadata": {},
   "outputs": [
    {
     "name": "stdout",
     "output_type": "stream",
     "text": [
      "12\n",
      "multiply\n",
      "Multiplies two numbers.\n",
      "{'x': {'description': 'The first number to multiply.', 'title': 'X', 'type': 'integer'}, 'y': {'description': 'The second number to multiply.', 'title': 'Y', 'type': 'integer'}}\n"
     ]
    }
   ],
   "source": [
    "from langchain.tools import BaseTool\n",
    "from typing import Type\n",
    "\n",
    "# arg schema using pydantic\n",
    "\n",
    "class MultiplyInput(BaseModel):\n",
    "    a: int = Field(required=True, description=\"The first number to add\")\n",
    "    b: int = Field(required=True, description=\"The second number to add\")\n",
    "\n",
    "class MultiplyTool(BaseTool):\n",
    "    name: str = \"multiply\"\n",
    "    description: str = \"Multiply two numbers\"\n",
    "\n",
    "    args_schema: Type[BaseModel] = MultiplyInput\n",
    "\n",
    "    def _run(self, a: int, b: int) -> int:\n",
    "        return a * b\n",
    "    \n",
    "\n",
    "result = multiply_tool.invoke({\"x\": 3, \"y\": 4})\n",
    "\n",
    "print(result)\n",
    "print(multiply_tool.name)\n",
    "print(multiply_tool.description)\n",
    "\n",
    "print(multiply_tool.args)"
   ]
  },
  {
   "cell_type": "markdown",
   "id": "610eff82",
   "metadata": {},
   "source": [
    "### Toolkit"
   ]
  },
  {
   "cell_type": "code",
   "execution_count": 29,
   "id": "0a37f562",
   "metadata": {},
   "outputs": [
    {
     "name": "stdout",
     "output_type": "stream",
     "text": [
      "add => Add two numbers\n",
      "multiply => Multiply two numbers\n"
     ]
    }
   ],
   "source": [
    "from langchain_core.tools import tool\n",
    "\n",
    "# Custom tools\n",
    "@tool\n",
    "def add(a: int, b: int) -> int:\n",
    "    \"\"\"Add two numbers\"\"\"\n",
    "    return a + b\n",
    "\n",
    "@tool\n",
    "def multiply(a: int, b: int) -> int:\n",
    "    \"\"\"Multiply two numbers\"\"\"\n",
    "    return a * b\n",
    "\n",
    "\n",
    "class MathToolkit:\n",
    "    def get_tools(self):\n",
    "        return [add, multiply]\n",
    "\n",
    "\n",
    "toolkit = MathToolkit()\n",
    "tools = toolkit.get_tools()\n",
    "\n",
    "for tool in tools:\n",
    "    print(tool.name, \"=>\", tool.description)\n",
    "\n"
   ]
  },
  {
   "cell_type": "code",
   "execution_count": null,
   "id": "55d81855",
   "metadata": {},
   "outputs": [],
   "source": []
  }
 ],
 "metadata": {
  "kernelspec": {
   "display_name": ".venv",
   "language": "python",
   "name": "python3"
  },
  "language_info": {
   "codemirror_mode": {
    "name": "ipython",
    "version": 3
   },
   "file_extension": ".py",
   "mimetype": "text/x-python",
   "name": "python",
   "nbconvert_exporter": "python",
   "pygments_lexer": "ipython3",
   "version": "3.11.12"
  }
 },
 "nbformat": 4,
 "nbformat_minor": 5
}
