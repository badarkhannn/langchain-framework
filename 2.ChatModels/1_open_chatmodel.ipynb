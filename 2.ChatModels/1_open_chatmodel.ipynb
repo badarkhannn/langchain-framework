{
 "cells": [
  {
   "cell_type": "markdown",
   "id": "d1af72bb",
   "metadata": {},
   "source": [
    "## OPENAI"
   ]
  },
  {
   "cell_type": "code",
   "execution_count": 3,
   "id": "d7938b04",
   "metadata": {},
   "outputs": [
    {
     "data": {
      "text/plain": [
       "True"
      ]
     },
     "execution_count": 3,
     "metadata": {},
     "output_type": "execute_result"
    }
   ],
   "source": [
    "from langchain_openai import ChatOpenAI\n",
    "from dotenv import load_dotenv\n",
    "\n",
    "load_dotenv()"
   ]
  },
  {
   "cell_type": "code",
   "execution_count": null,
   "id": "67867e44",
   "metadata": {},
   "outputs": [
    {
     "data": {
      "text/plain": [
       "'1. Aisha\\n2. Fatima\\n3. Muhammad\\n4. Ahmed\\n5. Zainab'"
      ]
     },
     "execution_count": 8,
     "metadata": {},
     "output_type": "execute_result"
    }
   ],
   "source": [
    "model = ChatOpenAI(model=\"gpt-4\", temperature=0 , max_completion_tokens=500) # Temperature is the paremeter that controls the randomness of the output. Lower values make the output more deterministic. (Its mean creative and less random)\n",
    "result = model.invoke(\"Suggest me 5 Muslim Names\")\n",
    "result.content"
   ]
  },
  {
   "cell_type": "markdown",
   "id": "580bada3",
   "metadata": {},
   "source": [
    "## Antropic"
   ]
  },
  {
   "cell_type": "code",
   "execution_count": null,
   "id": "0c9383b1",
   "metadata": {},
   "outputs": [],
   "source": [
    "from langchain_anthropic import ChatAnthropic\n",
    "model = ChatAnthropic(model=\"claude-2\", temperature=0 , max_completion_tokens=500) # Temperature is the paremeter that controls the randomness of the output. Lower values make the output more deterministic. (Its mean creative and less random)\n",
    "result = model.invoke(\"Suggest me 5 Muslim Names\")\n",
    "result.content"
   ]
  },
  {
   "cell_type": "markdown",
   "id": "23756756",
   "metadata": {},
   "source": [
    "## Gemnni"
   ]
  },
  {
   "cell_type": "code",
   "execution_count": 11,
   "id": "5bf855c2",
   "metadata": {},
   "outputs": [
    {
     "data": {
      "text/plain": [
       "True"
      ]
     },
     "execution_count": 11,
     "metadata": {},
     "output_type": "execute_result"
    }
   ],
   "source": [
    "# Communicate with gemini\n",
    "from langchain_google_genai import ChatGoogleGenerativeAI\n",
    "import dotenv\n",
    "dotenv.load_dotenv()"
   ]
  },
  {
   "cell_type": "code",
   "execution_count": 15,
   "id": "9092da59",
   "metadata": {},
   "outputs": [
    {
     "data": {
      "text/plain": [
       "'Okay, here are 5 suggestions for Muslim names, with a brief note about their meanings:\\n\\n1.  **Aaliyah (عالية):** This is a popular and beautiful name for girls, meaning \"high,\" \"exalted,\" or \"sublime.\"\\n\\n2.  **Zayn (زين):** A popular name for boys, meaning \"beauty,\" \"grace,\" or \"excellence.\"\\n\\n3.  **Aisha (عائشة):** A classic and revered name for girls, as it was the name of one of the Prophet Muhammad\\'s (peace be upon him) wives. It means \"alive\" or \"living.\"\\n\\n4.  **Omar (عمر):** A strong and historically significant name for boys, as it was the name of the second Caliph of Islam. It means \"flourishing,\" \"long-lived.\"\\n\\n5.  **Layan (ليان):** A beautiful name for girls, meaning \"softness,\" \"tenderness,\" or \"gentleness.\"'"
      ]
     },
     "execution_count": 15,
     "metadata": {},
     "output_type": "execute_result"
    }
   ],
   "source": [
    "model = ChatGoogleGenerativeAI(model=\"gemini-2.0-flash\", temperature=0) # Temperature is the paremeter that controls the randomness of the output. Lower values make the output more deterministic. (Its mean creative and less random)\n",
    "result = model.invoke(\"Suggest me 5 Muslim Names\")\n",
    "result.content"
   ]
  }
 ],
 "metadata": {
  "kernelspec": {
   "display_name": ".venv",
   "language": "python",
   "name": "python3"
  },
  "language_info": {
   "codemirror_mode": {
    "name": "ipython",
    "version": 3
   },
   "file_extension": ".py",
   "mimetype": "text/x-python",
   "name": "python",
   "nbconvert_exporter": "python",
   "pygments_lexer": "ipython3",
   "version": "3.11.12"
  }
 },
 "nbformat": 4,
 "nbformat_minor": 5
}
