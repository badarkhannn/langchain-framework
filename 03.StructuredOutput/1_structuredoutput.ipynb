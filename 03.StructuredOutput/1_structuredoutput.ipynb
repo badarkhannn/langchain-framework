{
 "cells": [
  {
   "cell_type": "markdown",
   "id": "88e7a670",
   "metadata": {},
   "source": [
    "### Typedict"
   ]
  },
  {
   "cell_type": "code",
   "execution_count": null,
   "id": "402be6ad",
   "metadata": {},
   "outputs": [
    {
     "name": "stdout",
     "output_type": "stream",
     "text": [
      "Name: John Doe\n",
      "Age: 30\n",
      "City: New York\n"
     ]
    }
   ],
   "source": [
    "from typing import TypedDict\n",
    "\n",
    "class person(TypedDict):\n",
    "    name: str\n",
    "    age: int\n",
    "    city: str\n",
    "\n",
    "new_person: person = {\n",
    "    \"name\": \"John Doe\",\n",
    "    \"age\": 30,\n",
    "    \"city\": \"New York\"\n",
    "}\n",
    "def print_person_info(person: person) -> None:\n",
    "    print(f\"Name: {person['name']}\")\n",
    "    print(f\"Age: {person['age']}\")\n",
    "    print(f\"City: {person['city']}\")\n",
    "\n",
    "print_person_info(new_person)"
   ]
  },
  {
   "cell_type": "code",
   "execution_count": 27,
   "id": "43804a19",
   "metadata": {},
   "outputs": [
    {
     "data": {
      "text/plain": [
       "True"
      ]
     },
     "execution_count": 27,
     "metadata": {},
     "output_type": "execute_result"
    }
   ],
   "source": [
    "## Reviews -> LLM -> Summary ->Sentimental Analysis\n",
    "\n",
    "from langchain_openai import ChatOpenAI\n",
    "from dotenv import load_dotenv\n",
    "from typing import TypedDict, Annotated\n",
    "\n",
    "load_dotenv()"
   ]
  },
  {
   "cell_type": "code",
   "execution_count": 37,
   "id": "1efc0e46",
   "metadata": {},
   "outputs": [
    {
     "name": "stderr",
     "output_type": "stream",
     "text": [
      "d:\\langchain-framework\\.venv\\Lib\\site-packages\\langchain_openai\\chat_models\\base.py:1643: UserWarning: Cannot use method='json_schema' with model gpt-3.5-turbo since it doesn't support OpenAI's Structured Output API. You can see supported models here: https://platform.openai.com/docs/guides/structured-outputs#supported-models. To fix this warning, set `method='function_calling'. Overriding to method='function_calling'.\n",
      "  warnings.warn(\n"
     ]
    },
    {
     "name": "stdout",
     "output_type": "stream",
     "text": [
      "{'summary': 'Hardware works well, software buggy', 'rating': 3, 'sentiment': 'Neutral'}\n"
     ]
    }
   ],
   "source": [
    "from typing import Annotated\n",
    "\n",
    "model = ChatOpenAI()\n",
    "\n",
    "class Review(TypedDict):\n",
    "    summary: Annotated[str, \"Summarized review\"]\n",
    "    rating: Annotated[int, \"Rating from 1 to 5\"]\n",
    "    sentiment: Annotated[str, \"Sentiment of the review\"]\n",
    "\n",
    "structured_model = model.with_structured_output(Review)\n",
    "result = structured_model.invoke(\"\"\"\n",
    "The hardware seems to be working well, but the software is a bit buggy. I would recommend some improvements in the user interface.\"\"\")\n",
    "\n",
    "print(result)"
   ]
  },
  {
   "cell_type": "code",
   "execution_count": null,
   "id": "43fee726",
   "metadata": {},
   "outputs": [
    {
     "name": "stderr",
     "output_type": "stream",
     "text": [
      "d:\\langchain-framework\\.venv\\Lib\\site-packages\\langchain_openai\\chat_models\\base.py:1643: UserWarning: Cannot use method='json_schema' with model gpt-3.5-turbo since it doesn't support OpenAI's Structured Output API. You can see supported models here: https://platform.openai.com/docs/guides/structured-outputs#supported-models. To fix this warning, set `method='function_calling'. Overriding to method='function_calling'.\n",
      "  warnings.warn(\n"
     ]
    },
    {
     "name": "stdout",
     "output_type": "stream",
     "text": [
      "{'summary': 'Product did not meet needs', 'rating': 2, 'sentiment': 'Negative', 'pros': 'N/A', 'cons': 'Missing key features', 'recommendation': 'Would not recommend'}\n"
     ]
    }
   ],
   "source": [
    "from typing import Annotated, Optional\n",
    "\n",
    "model = ChatOpenAI()\n",
    "\n",
    "class Review(TypedDict):\n",
    "    summary: Annotated[str, \"Summarized review\"]\n",
    "    rating: Annotated[int, \"Rating from 1 to 5\"]\n",
    "    sentiment: Annotated[str, \"Sentiment of the review\"]\n",
    "    pros: Annotated[Optional[str], \"Pros of the product\"]\n",
    "    cons: Annotated[Optional[str], \"Cons of the product\"]\n",
    "    recommendation: Annotated[Optional[str], \"Recommendation for the product\"]\n",
    "\n",
    "structured_model = model.with_structured_output(Review)\n",
    "reviews = [\n",
    "    \"\"\"\n",
    "    The product exceeded my expectations. The build quality is excellent and the performance is top-notch. I especially liked the intuitive user interface. Highly recommended!\n",
    "    \"\"\",\n",
    "    \"\"\"\n",
    "    The device works as advertised, but the battery life is shorter than expected. Customer support was helpful in resolving my issues. Overall, a decent purchase.\n",
    "    \"\"\",\n",
    "    \"\"\"\n",
    "    I found the software to be very buggy and the installation process was confusing. However, the hardware is solid and the price is reasonable.\n",
    "    \"\"\",\n",
    "    \"\"\"\n",
    "    The product is easy to use and setup was a breeze. The documentation could be improved, but overall I'm satisfied with my purchase.\n",
    "    \"\"\",\n",
    "    \"\"\"\n",
    "    The product did not meet my needs. It was missing several key features and the customer service was unresponsive. I would not recommend this to others.\n",
    "    \"\"\"\n",
    "]\n",
    "\n",
    "results = []\n",
    "for review in reviews:\n",
    "    result = structured_model.invoke(review)\n",
    "    results.append(result)\n",
    "\n",
    "print(result)"
   ]
  },
  {
   "cell_type": "markdown",
   "id": "9ec7c7d5",
   "metadata": {},
   "source": [
    "### Pydantic"
   ]
  },
  {
   "cell_type": "code",
   "execution_count": 48,
   "id": "10cdf72f",
   "metadata": {},
   "outputs": [
    {
     "name": "stdout",
     "output_type": "stream",
     "text": [
      "name='Badar Khan'\n",
      "<class '__main__.student'>\n"
     ]
    }
   ],
   "source": [
    "from pydantic import BaseModel\n",
    "\n",
    "class student(BaseModel):\n",
    "    name: str = \"Badar Khan\" # It's a default value\n",
    "\n",
    "new_student = student()\n",
    "print(new_student)\n",
    "print(type(new_student))"
   ]
  },
  {
   "cell_type": "code",
   "execution_count": 58,
   "id": "c895c6ca",
   "metadata": {},
   "outputs": [
    {
     "name": "stdout",
     "output_type": "stream",
     "text": [
      "name='Ali Khan' age=5\n",
      "<class '__main__.student'>\n"
     ]
    }
   ],
   "source": [
    "from pydantic import BaseModel\n",
    "from typing import Optional, List\n",
    "\n",
    "class student(BaseModel):\n",
    "    name: str = \"Badar Khan\" # It's a default value\n",
    "    age: Optional[int] = None\n",
    "\n",
    "new_student = student(name='Ali Khan', age=5)\n",
    "print(new_student)\n",
    "print(type(new_student))"
   ]
  },
  {
   "cell_type": "code",
   "execution_count": 70,
   "id": "ebabe8af",
   "metadata": {},
   "outputs": [
    {
     "name": "stdout",
     "output_type": "stream",
     "text": [
      "name='Ali Khan' age=5 cgpa=3.5\n",
      "<class '__main__.student'>\n",
      "{'name': 'Ali Khan', 'age': 5, 'cgpa': 3.5}\n",
      "name='Ali Khan' age=5 cgpa=3.5\n"
     ]
    },
    {
     "name": "stderr",
     "output_type": "stream",
     "text": [
      "C:\\Users\\Blue\\AppData\\Local\\Temp\\ipykernel_16208\\4043558836.py:15: PydanticDeprecatedSince20: The `dict` method is deprecated; use `model_dump` instead. Deprecated in Pydantic V2.0 to be removed in V3.0. See Pydantic V2 Migration Guide at https://errors.pydantic.dev/2.11/migration/\n",
      "  print(new_student.dict())\n"
     ]
    }
   ],
   "source": [
    "from pydantic import BaseModel, EmailStr, Field\n",
    "from typing import Optional, List\n",
    "\n",
    "class student(BaseModel):\n",
    "    name: str = \"Badar Khan\"  # It's a default value\n",
    "    age: Optional[int] = None\n",
    "    # email: Optional[EmailStr] = None\n",
    "    cgpa: float = Field(..., gt=0, le=4.0)\n",
    "\n",
    "new_student = student(name='Ali Khan', age=5, cgpa=3.5)\n",
    "print(new_student)\n",
    "print(type(new_student))\n",
    "\n",
    "#convert into dict\n",
    "print(new_student.dict())\n",
    "print(new_student)"
   ]
  },
  {
   "cell_type": "code",
   "execution_count": 79,
   "id": "86f2d2cf",
   "metadata": {},
   "outputs": [
    {
     "name": "stderr",
     "output_type": "stream",
     "text": [
      "d:\\langchain-framework\\.venv\\Lib\\site-packages\\langchain_openai\\chat_models\\base.py:1643: UserWarning: Cannot use method='json_schema' with model gpt-3.5-turbo since it doesn't support OpenAI's Structured Output API. You can see supported models here: https://platform.openai.com/docs/guides/structured-outputs#supported-models. To fix this warning, set `method='function_calling'. Overriding to method='function_calling'.\n",
      "  warnings.warn(\n"
     ]
    },
    {
     "name": "stdout",
     "output_type": "stream",
     "text": [
      "key_theme=['missing key features', 'unresponsive customer service'] summary='The product did not meet my needs.' sentiment='negative' pros=None cons=None recommendation='I would not recommend this to others.'\n"
     ]
    }
   ],
   "source": [
    "from typing import Annotated, Optional, List, Literal\n",
    "from pydantic import BaseModel, Field\n",
    "\n",
    "model = ChatOpenAI()\n",
    "\n",
    "class Review(BaseModel):\n",
    "\n",
    "    key_theme: list[str] = Field(\n",
    "        description=\"Key themes of the review\",\n",
    "    )\n",
    "    summary: str = Field(\n",
    "        description=\"Summarized review\",\n",
    "    )\n",
    "    sentiment: Literal[\"positive\", \"negative\", \"neutral\"] = Field(\n",
    "        description=\"Sentiment of the review\",\n",
    "    )\n",
    "    pros: Optional[str] = Field(\n",
    "        description=\"Pros of the product\",\n",
    "    )\n",
    "    cons: Optional[str] = Field(\n",
    "        description=\"Cons of the product\",\n",
    "    )\n",
    "    recommendation: Optional[str] = Field(\n",
    "        description=\"Recommendation for the product\",\n",
    "    )\n",
    "\n",
    "structured_model = model.with_structured_output(Review)\n",
    "reviews = [\n",
    "    \"\"\"\n",
    "    The product exceeded my expectations. The build quality is excellent and the performance is top-notch. I especially liked the intuitive user interface. Highly recommended!\n",
    "    \"\"\",\n",
    "    \"\"\"\n",
    "    The device works as advertised, but the battery life is shorter than expected. Customer support was helpful in resolving my issues. Overall, a decent purchase.\n",
    "    \"\"\",\n",
    "    \"\"\"\n",
    "    I found the software to be very buggy and the installation process was confusing. However, the hardware is solid and the price is reasonable.\n",
    "    \"\"\",\n",
    "    \"\"\"\n",
    "    The product is easy to use and setup was a breeze. The documentation could be improved, but overall I'm satisfied with my purchase.\n",
    "    \"\"\",\n",
    "    \"\"\"\n",
    "    The product did not meet my needs. It was missing several key features and the customer service was unresponsive. I would not recommend this to others.\n",
    "    \"\"\"\n",
    "]\n",
    "\n",
    "results = []\n",
    "for review in reviews:\n",
    "    result = structured_model.invoke(review)\n",
    "    results.append(result)\n",
    "\n",
    "print(result)"
   ]
  },
  {
   "cell_type": "markdown",
   "id": "43f1571a",
   "metadata": {},
   "source": [
    "### JSON SCHEME"
   ]
  },
  {
   "cell_type": "code",
   "execution_count": 81,
   "id": "2fd99fad",
   "metadata": {},
   "outputs": [
    {
     "data": {
      "text/plain": [
       "{'title': 'students',\n",
       " 'description': 'A list of students',\n",
       " 'type': 'object',\n",
       " 'properties': {'name': 'string', 'age': 'integer'},\n",
       " 'required': ['name', 'age']}"
      ]
     },
     "execution_count": 81,
     "metadata": {},
     "output_type": "execute_result"
    }
   ],
   "source": [
    "# Json file\n",
    "{\n",
    "    'title': \"students\",\n",
    "    'description': \"A list of students\",\n",
    "    'type': 'object',\n",
    "    'properties': {\n",
    "        'name': \"string\",\n",
    "        'age': \"integer\",\n",
    "    }, \n",
    "    'required': ['name', 'age'],\n",
    "}"
   ]
  },
  {
   "cell_type": "code",
   "execution_count": null,
   "id": "1c032456",
   "metadata": {},
   "outputs": [],
   "source": [
    "# For the JSON Scheme just use the above code but change with some scheme\n",
    "\n",
    "json_schema = {\n",
    "    'title': \"students\",\n",
    "    'description': \"A list of students\",\n",
    "    'type': 'object',\n",
    "    'properties': {\n",
    "        'name': \"string\",\n",
    "        'age': \"integer\",\n",
    "    }, \n",
    "    'required': ['name', 'age'],\n",
    "}\n",
    "## You just need to pass this in the with_structured_output function"
   ]
  }
 ],
 "metadata": {
  "kernelspec": {
   "display_name": ".venv",
   "language": "python",
   "name": "python3"
  },
  "language_info": {
   "codemirror_mode": {
    "name": "ipython",
    "version": 3
   },
   "file_extension": ".py",
   "mimetype": "text/x-python",
   "name": "python",
   "nbconvert_exporter": "python",
   "pygments_lexer": "ipython3",
   "version": "3.11.12"
  }
 },
 "nbformat": 4,
 "nbformat_minor": 5
}
